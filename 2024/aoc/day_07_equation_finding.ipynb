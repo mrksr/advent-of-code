{
 "cells": [
  {
   "cell_type": "code",
   "execution_count": 1,
   "metadata": {},
   "outputs": [
    {
     "data": {
      "text/plain": [
       "'190: 10 19\\n3267: 81 40 27\\n83: 17 5\\n156: 15 6\\n7290: 6 8 6 15\\n161011: 16 10 13\\n192: 17 8 14\\n21037: 9 7 18 13\\n292: 11 6 16 20'"
      ]
     },
     "execution_count": 1,
     "metadata": {},
     "output_type": "execute_result"
    }
   ],
   "source": [
    "import aocd\n",
    "puzzle = aocd.get_puzzle(year=2024, day=7)\n",
    "\n",
    "puzzle.examples[0].input_data"
   ]
  },
  {
   "cell_type": "code",
   "execution_count": 2,
   "metadata": {},
   "outputs": [],
   "source": [
    "import numpy as np"
   ]
  },
  {
   "cell_type": "code",
   "execution_count": 3,
   "metadata": {},
   "outputs": [
    {
     "data": {
      "text/plain": [
       "[(190, [10, 19]),\n",
       " (3267, [81, 40, 27]),\n",
       " (83, [17, 5]),\n",
       " (156, [15, 6]),\n",
       " (7290, [6, 8, 6, 15]),\n",
       " (161011, [16, 10, 13]),\n",
       " (192, [17, 8, 14]),\n",
       " (21037, [9, 7, 18, 13]),\n",
       " (292, [11, 6, 16, 20])]"
      ]
     },
     "execution_count": 3,
     "metadata": {},
     "output_type": "execute_result"
    }
   ],
   "source": [
    "def parse_input(input_data):\n",
    "    return [\n",
    "        (int(lhs), [int(r) for r in rhs.split(\" \") if r])\n",
    "        for line in input_data.splitlines()\n",
    "        for lhs, rhs in [line.split(\":\")]\n",
    "    ]\n",
    "\n",
    "\n",
    "parse_input(puzzle.examples[0].input_data)"
   ]
  },
  {
   "cell_type": "code",
   "execution_count": 4,
   "metadata": {},
   "outputs": [],
   "source": [
    "def add_or_multiply(goal, accumulator, numbers):\n",
    "    if not numbers:\n",
    "        return accumulator == goal\n",
    "\n",
    "    if accumulator > goal:\n",
    "        return False\n",
    "\n",
    "    return any([\n",
    "        add_or_multiply(goal, accumulator + numbers[0], numbers[1:]),\n",
    "        add_or_multiply(goal, accumulator * numbers[0], numbers[1:]),\n",
    "    ])\n",
    "\n",
    "\n",
    "def total_calibration(tasks):\n",
    "    return sum(\n",
    "        goal\n",
    "        for goal, numbers in tasks\n",
    "        if add_or_multiply(goal, 0, numbers)\n",
    "    )"
   ]
  },
  {
   "cell_type": "code",
   "execution_count": 5,
   "metadata": {},
   "outputs": [
    {
     "name": "stdout",
     "output_type": "stream",
     "text": [
      "True\n",
      "True\n",
      "False\n",
      "False\n",
      "False\n",
      "False\n",
      "False\n",
      "False\n",
      "True\n"
     ]
    }
   ],
   "source": [
    "tasks = parse_input(puzzle.examples[0].input_data)\n",
    "\n",
    "for goal, numbers in tasks:\n",
    "    print(add_or_multiply(goal, 0, numbers))"
   ]
  },
  {
   "cell_type": "code",
   "execution_count": 6,
   "metadata": {},
   "outputs": [
    {
     "name": "stdout",
     "output_type": "stream",
     "text": [
      "total_calibration(parse_input(example.input_data))=3749 - example.answer_a='3749'\n"
     ]
    }
   ],
   "source": [
    "for example in puzzle.examples:\n",
    "    print(\n",
    "        f\"{total_calibration(parse_input(example.input_data))=} - {example.answer_a=}\"\n",
    "    )"
   ]
  },
  {
   "cell_type": "code",
   "execution_count": 7,
   "metadata": {},
   "outputs": [
    {
     "name": "stdout",
     "output_type": "stream",
     "text": [
      "aocd will not submit that answer again. At 2024-12-09 17:02:58.928408-05:00 you've previously submitted 20281182715321 and the server responded with:\n",
      "\u001b[32mThat's the right answer!  You are one gold star closer to finding the Chief Historian. [Continue to Part Two]\u001b[0m\n"
     ]
    }
   ],
   "source": [
    "aocd.submit(\n",
    "    total_calibration(parse_input(puzzle.input_data)),\n",
    "    part=\"a\",\n",
    "    year=2024,\n",
    "    day=7,\n",
    ")"
   ]
  },
  {
   "cell_type": "code",
   "execution_count": 9,
   "metadata": {},
   "outputs": [],
   "source": [
    "def add_or_multiply_or_concatenate(goal, accumulator, numbers):\n",
    "    if not numbers:\n",
    "        return accumulator == goal\n",
    "\n",
    "    if accumulator > goal:\n",
    "        return False\n",
    "\n",
    "    return any(\n",
    "        [\n",
    "            add_or_multiply_or_concatenate(goal, accumulator + numbers[0], numbers[1:]),\n",
    "            add_or_multiply_or_concatenate(goal, accumulator * numbers[0], numbers[1:]),\n",
    "            add_or_multiply_or_concatenate(\n",
    "                goal, int(str(accumulator) + str(numbers[0])), numbers[1:]\n",
    "            ),\n",
    "        ]\n",
    "    )\n",
    "\n",
    "\n",
    "def total_calibration_concatenate(tasks):\n",
    "    return sum(\n",
    "        goal\n",
    "        for goal, numbers in tasks\n",
    "        if add_or_multiply_or_concatenate(goal, 0, numbers)\n",
    "    )"
   ]
  },
  {
   "cell_type": "code",
   "execution_count": 10,
   "metadata": {},
   "outputs": [
    {
     "name": "stdout",
     "output_type": "stream",
     "text": [
      "total_calibration_concatenate(parse_input(example.input_data))=11387 - example.answer_b=None\n"
     ]
    }
   ],
   "source": [
    "for example in puzzle.examples:\n",
    "    print(\n",
    "        f\"{total_calibration_concatenate(parse_input(example.input_data))=} - {example.answer_b=}\"\n",
    "    )"
   ]
  },
  {
   "cell_type": "code",
   "execution_count": 11,
   "metadata": {},
   "outputs": [
    {
     "name": "stdout",
     "output_type": "stream",
     "text": [
      "\u001b[32mThat's the right answer!  You are one gold star closer to finding the Chief Historian.You have completed Day 7! You can [Shareon\n",
      "  Bluesky\n",
      "Twitter\n",
      "Mastodon] this victory or [Return to Your Advent Calendar].\u001b[0m\n"
     ]
    },
    {
     "data": {
      "text/plain": [
       "<urllib3.response.HTTPResponse at 0x7f8e3987fdc0>"
      ]
     },
     "execution_count": 11,
     "metadata": {},
     "output_type": "execute_result"
    }
   ],
   "source": [
    "aocd.submit(\n",
    "    total_calibration_concatenate(parse_input(puzzle.input_data)),\n",
    "    part=\"b\",\n",
    "    year=2024,\n",
    "    day=7,\n",
    ")"
   ]
  },
  {
   "cell_type": "code",
   "execution_count": null,
   "metadata": {},
   "outputs": [],
   "source": []
  }
 ],
 "metadata": {
  "kernelspec": {
   "display_name": ".venv",
   "language": "python",
   "name": "python3"
  },
  "language_info": {
   "codemirror_mode": {
    "name": "ipython",
    "version": 3
   },
   "file_extension": ".py",
   "mimetype": "text/x-python",
   "name": "python",
   "nbconvert_exporter": "python",
   "pygments_lexer": "ipython3",
   "version": "3.12.5"
  }
 },
 "nbformat": 4,
 "nbformat_minor": 2
}
