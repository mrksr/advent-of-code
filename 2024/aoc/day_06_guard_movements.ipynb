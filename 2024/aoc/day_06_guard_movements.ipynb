{
 "cells": [
  {
   "cell_type": "code",
   "execution_count": 1,
   "metadata": {},
   "outputs": [
    {
     "data": {
      "text/plain": [
       "'....#.....\\n.........#\\n..........\\n..#.......\\n.......#..\\n..........\\n.#..^.....\\n........#.\\n#.........\\n......#...'"
      ]
     },
     "execution_count": 1,
     "metadata": {},
     "output_type": "execute_result"
    }
   ],
   "source": [
    "import aocd\n",
    "puzzle = aocd.get_puzzle(year=2024, day=6)\n",
    "\n",
    "puzzle.examples[0].input_data"
   ]
  },
  {
   "cell_type": "code",
   "execution_count": 2,
   "metadata": {},
   "outputs": [],
   "source": [
    "import numpy as np"
   ]
  },
  {
   "cell_type": "code",
   "execution_count": 3,
   "metadata": {},
   "outputs": [
    {
     "data": {
      "text/plain": [
       "array([['.', '.', '.', '.', '#', '.', '.', '.', '.', '.'],\n",
       "       ['.', '.', '.', '.', '.', '.', '.', '.', '.', '#'],\n",
       "       ['.', '.', '.', '.', '.', '.', '.', '.', '.', '.'],\n",
       "       ['.', '.', '#', '.', '.', '.', '.', '.', '.', '.'],\n",
       "       ['.', '.', '.', '.', '.', '.', '.', '#', '.', '.'],\n",
       "       ['.', '.', '.', '.', '.', '.', '.', '.', '.', '.'],\n",
       "       ['.', '#', '.', '.', '^', '.', '.', '.', '.', '.'],\n",
       "       ['.', '.', '.', '.', '.', '.', '.', '.', '#', '.'],\n",
       "       ['#', '.', '.', '.', '.', '.', '.', '.', '.', '.'],\n",
       "       ['.', '.', '.', '.', '.', '.', '#', '.', '.', '.']], dtype='<U1')"
      ]
     },
     "execution_count": 3,
     "metadata": {},
     "output_type": "execute_result"
    }
   ],
   "source": [
    "def parse_input(input_data):\n",
    "    return np.array([\n",
    "        list(line) for line in input_data.splitlines()\n",
    "    ])\n",
    "\n",
    "parse_input(puzzle.examples[0].input_data)"
   ]
  },
  {
   "cell_type": "code",
   "execution_count": 4,
   "metadata": {},
   "outputs": [],
   "source": [
    "def guard(grid):\n",
    "    return np.argwhere((grid == \"^\") | (grid == \"v\") | (grid == \"<\") | (grid == \">\"))[0]\n",
    "\n",
    "\n",
    "movement = {\n",
    "    \"^\": np.array((-1, 0)),\n",
    "    \"v\": np.array((1, 0)),\n",
    "    \"<\": np.array((0, -1)),\n",
    "    \">\": np.array((0, 1)),\n",
    "}\n",
    "\n",
    "next_movement = {\n",
    "    \"^\": \">\",\n",
    "    \"v\": \"<\",\n",
    "    \"<\": \"^\",\n",
    "    \">\": \"v\",\n",
    "}\n",
    "\n",
    "\n",
    "def reachable_positions(start_grid):\n",
    "    reachable = np.zeros_like(start_grid, dtype=bool)\n",
    "\n",
    "    current_position = guard(start_grid)\n",
    "    current_grid = start_grid.copy()\n",
    "\n",
    "    while True:\n",
    "        reachable[tuple(current_position)] = True\n",
    "\n",
    "        next_position = (\n",
    "            current_position + movement[current_grid[tuple(current_position)]]\n",
    "        )\n",
    "        if (\n",
    "            min(next_position) < 0\n",
    "            or next_position[0] >= current_grid.shape[0]\n",
    "            or next_position[1] >= current_grid.shape[1]\n",
    "        ):\n",
    "            return reachable\n",
    "\n",
    "        if current_grid[tuple(next_position)] == \"#\":\n",
    "            current_grid[tuple(current_position)] = next_movement[\n",
    "                current_grid[tuple(current_position)]\n",
    "            ]\n",
    "        else:\n",
    "            current_grid[tuple(next_position)] = current_grid[tuple(current_position)]\n",
    "            current_grid[tuple(current_position)] = \".\"\n",
    "            current_position = next_position"
   ]
  },
  {
   "cell_type": "code",
   "execution_count": 5,
   "metadata": {},
   "outputs": [
    {
     "data": {
      "text/plain": [
       "np.int64(41)"
      ]
     },
     "execution_count": 5,
     "metadata": {},
     "output_type": "execute_result"
    }
   ],
   "source": [
    "example_input = parse_input(puzzle.examples[0].input_data)\n",
    "\n",
    "reachable = reachable_positions(example_input)\n",
    "\n",
    "reachable.sum()"
   ]
  },
  {
   "cell_type": "code",
   "execution_count": 6,
   "metadata": {},
   "outputs": [
    {
     "name": "stdout",
     "output_type": "stream",
     "text": [
      "reachable_positions(parse_input(example.input_data)).sum()=np.int64(41) - example.answer_a='41'\n"
     ]
    }
   ],
   "source": [
    "for example in puzzle.examples:\n",
    "    print(\n",
    "        f\"{reachable_positions(parse_input(example.input_data)).sum()=} - {example.answer_a=}\"\n",
    "    )"
   ]
  },
  {
   "cell_type": "code",
   "execution_count": 7,
   "metadata": {},
   "outputs": [
    {
     "name": "stderr",
     "output_type": "stream",
     "text": [
      "coerced int64 value np.int64(5409) for 2024/06 to '5409'\n"
     ]
    },
    {
     "name": "stdout",
     "output_type": "stream",
     "text": [
      "aocd will not submit that answer again. At 2024-12-09 16:05:38.570534-05:00 you've previously submitted 5409 and the server responded with:\n",
      "\u001b[32mThat's the right answer!  You are one gold star closer to finding the Chief Historian. [Continue to Part Two]\u001b[0m\n"
     ]
    }
   ],
   "source": [
    "aocd.submit(\n",
    "    reachable_positions(parse_input(puzzle.input_data)).sum(),\n",
    "    part=\"a\",\n",
    "    year=2024,\n",
    "    day=6,\n",
    ")"
   ]
  },
  {
   "cell_type": "code",
   "execution_count": 8,
   "metadata": {},
   "outputs": [],
   "source": [
    "import itertools as it\n",
    "import joblib\n",
    "\n",
    "direction_index = {\n",
    "    \"^\": 0,\n",
    "    \"v\": 1,\n",
    "    \"<\": 2,\n",
    "    \">\": 3,\n",
    "}\n",
    "\n",
    "\n",
    "def results_in_loop(start_grid):\n",
    "    reachable = np.repeat(np.zeros_like(start_grid, dtype=bool)[None], 4, axis=0)\n",
    "    current_position = guard(start_grid)\n",
    "    current_grid = start_grid.copy()\n",
    "\n",
    "    while True:\n",
    "        direction = current_grid[tuple(current_position)]\n",
    "\n",
    "        if reachable[(direction_index[direction], *current_position)]:\n",
    "            return True\n",
    "        reachable[(direction_index[direction], *current_position)] = True\n",
    "\n",
    "        next_position = current_position + movement[direction]\n",
    "        if (\n",
    "            min(next_position) < 0\n",
    "            or next_position[0] >= current_grid.shape[0]\n",
    "            or next_position[1] >= current_grid.shape[1]\n",
    "        ):\n",
    "            return False\n",
    "\n",
    "        if current_grid[tuple(next_position)] == \"#\":\n",
    "            current_grid[tuple(current_position)] = next_movement[direction]\n",
    "        else:\n",
    "            current_grid[tuple(next_position)] = current_grid[tuple(current_position)]\n",
    "            current_grid[tuple(current_position)] = \".\"\n",
    "            current_position = next_position\n",
    "\n",
    "\n",
    "def number_of_grids_with_loop(base_grid):\n",
    "    def add_obstacle(x, y):\n",
    "        new_grid = base_grid.copy()\n",
    "        new_grid[x, y] = \"#\"\n",
    "        return new_grid\n",
    "\n",
    "    x_guard, y_guard = guard(base_grid)\n",
    "    # new_obstacles = [\n",
    "    #     (x, y)\n",
    "    #     for x, y in it.product(range(base_grid.shape[0]), range(base_grid.shape[1]))\n",
    "    #     if (x, y) != (x_guard, y_guard)\n",
    "    # ]\n",
    "\n",
    "    new_obstacles = np.argwhere(reachable_positions(base_grid))\n",
    "\n",
    "    loops = joblib.Parallel(n_jobs=-1, verbose=1, return_as=\"generator\")(\n",
    "        joblib.delayed(results_in_loop)(add_obstacle(x, y))\n",
    "        for x, y in new_obstacles\n",
    "        if (x, y) != (x_guard, y_guard)\n",
    "    )\n",
    "    return sum(loops)"
   ]
  },
  {
   "cell_type": "code",
   "execution_count": 9,
   "metadata": {},
   "outputs": [
    {
     "data": {
      "text/plain": [
       "False"
      ]
     },
     "execution_count": 9,
     "metadata": {},
     "output_type": "execute_result"
    }
   ],
   "source": [
    "results_in_loop(example_input)"
   ]
  },
  {
   "cell_type": "code",
   "execution_count": 10,
   "metadata": {},
   "outputs": [
    {
     "name": "stderr",
     "output_type": "stream",
     "text": [
      "[Parallel(n_jobs=-1)]: Using backend LokyBackend with 20 concurrent workers.\n"
     ]
    },
    {
     "name": "stdout",
     "output_type": "stream",
     "text": [
      "number_of_grids_with_loop(parse_input(example.input_data))=6 - example.answer_b='6'\n"
     ]
    },
    {
     "name": "stderr",
     "output_type": "stream",
     "text": [
      "[Parallel(n_jobs=-1)]: Done  40 out of  40 | elapsed:    0.3s finished\n"
     ]
    }
   ],
   "source": [
    "for example in puzzle.examples:\n",
    "    print(\n",
    "        f\"{number_of_grids_with_loop(parse_input(example.input_data))=} - {example.answer_b=}\"\n",
    "    )"
   ]
  },
  {
   "cell_type": "code",
   "execution_count": 11,
   "metadata": {},
   "outputs": [
    {
     "name": "stderr",
     "output_type": "stream",
     "text": [
      "[Parallel(n_jobs=-1)]: Using backend LokyBackend with 20 concurrent workers.\n",
      "[Parallel(n_jobs=-1)]: Done  10 tasks      | elapsed:    0.1s\n",
      "[Parallel(n_jobs=-1)]: Done 600 tasks      | elapsed:    1.5s\n",
      "[Parallel(n_jobs=-1)]: Done 2600 tasks      | elapsed:    5.5s\n",
      "[Parallel(n_jobs=-1)]: Done 5408 out of 5408 | elapsed:   11.4s finished\n"
     ]
    },
    {
     "data": {
      "text/plain": [
       "2022"
      ]
     },
     "execution_count": 11,
     "metadata": {},
     "output_type": "execute_result"
    }
   ],
   "source": [
    "num_loops = number_of_grids_with_loop(parse_input(puzzle.input_data))\n",
    "\n",
    "num_loops"
   ]
  },
  {
   "cell_type": "code",
   "execution_count": 12,
   "metadata": {},
   "outputs": [
    {
     "name": "stdout",
     "output_type": "stream",
     "text": [
      "aocd will not submit that answer again. At 2024-12-09 16:32:43.265907-05:00 you've previously submitted 2022 and the server responded with:\n",
      "\u001b[32mThat's the right answer!  You are one gold star closer to finding the Chief Historian.You have completed Day 6! You can [Shareon\n",
      "  Bluesky\n",
      "Twitter\n",
      "Mastodon] this victory or [Return to Your Advent Calendar].\u001b[0m\n"
     ]
    }
   ],
   "source": [
    "aocd.submit(num_loops, part='b', year=2024, day=6)"
   ]
  },
  {
   "cell_type": "code",
   "execution_count": null,
   "metadata": {},
   "outputs": [],
   "source": []
  }
 ],
 "metadata": {
  "kernelspec": {
   "display_name": ".venv",
   "language": "python",
   "name": "python3"
  },
  "language_info": {
   "codemirror_mode": {
    "name": "ipython",
    "version": 3
   },
   "file_extension": ".py",
   "mimetype": "text/x-python",
   "name": "python",
   "nbconvert_exporter": "python",
   "pygments_lexer": "ipython3",
   "version": "3.12.5"
  }
 },
 "nbformat": 4,
 "nbformat_minor": 2
}
