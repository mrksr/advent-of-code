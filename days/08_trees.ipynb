{
 "cells": [
  {
   "cell_type": "code",
   "execution_count": null,
   "metadata": {},
   "outputs": [],
   "source": [
    "import numpy as np\n",
    "import pandas as pd"
   ]
  },
  {
   "cell_type": "code",
   "execution_count": null,
   "metadata": {},
   "outputs": [],
   "source": [
    "trees = \"\"\"\n",
    "30373\n",
    "25512\n",
    "65332\n",
    "33549\n",
    "35390\n",
    "\"\"\".strip()\n",
    "trees = \",\".join(trees).replace(\",\\n\", \"\")\n",
    "trees = np.fromstring(trees, dtype=int, sep=\",\")\n",
    "trees = trees.reshape((int(np.sqrt(len(trees))), -1))\n",
    "\n",
    "trees"
   ]
  },
  {
   "cell_type": "code",
   "execution_count": null,
   "metadata": {},
   "outputs": [],
   "source": [
    "def visible_from_left(trees):\n",
    "    maxes = pd.DataFrame(trees).cummax(axis=1).values\n",
    "    return np.diff(maxes, prepend=-1, axis=1) != 0\n",
    "\n",
    "\n",
    "def visible(trees):\n",
    "    return (\n",
    "        # visible_from_left(trees)\n",
    "        False\n",
    "        | np.rot90(visible_from_left(np.rot90(trees, k=0)), k=-0)\n",
    "        | np.rot90(visible_from_left(np.rot90(trees, k=1)), k=-1)\n",
    "        | np.rot90(visible_from_left(np.rot90(trees, k=2)), k=-2)\n",
    "        | np.rot90(visible_from_left(np.rot90(trees, k=3)), k=-3)\n",
    "    )\n",
    "\n",
    "\n",
    "visible(trees).sum()"
   ]
  },
  {
   "cell_type": "code",
   "execution_count": null,
   "metadata": {},
   "outputs": [],
   "source": [
    "%timeit visible(trees).sum()"
   ]
  },
  {
   "cell_type": "code",
   "execution_count": null,
   "metadata": {},
   "outputs": [],
   "source": [
    "(trees[..., None] >= np.arange(10)).shape"
   ]
  },
  {
   "cell_type": "code",
   "execution_count": null,
   "metadata": {},
   "outputs": [],
   "source": []
  }
 ],
 "metadata": {
  "kernelspec": {
   "display_name": ".venv",
   "language": "python",
   "name": "python3"
  },
  "language_info": {
   "codemirror_mode": {
    "name": "ipython",
    "version": 3
   },
   "file_extension": ".py",
   "mimetype": "text/x-python",
   "name": "python",
   "nbconvert_exporter": "python",
   "pygments_lexer": "ipython3",
   "version": "3.10.8"
  },
  "orig_nbformat": 4,
  "vscode": {
   "interpreter": {
    "hash": "2ba30280916cb19933c0b8d6a5dfa21643ca372f5ef946a9016e63a7ad3feabb"
   }
  }
 },
 "nbformat": 4,
 "nbformat_minor": 2
}
