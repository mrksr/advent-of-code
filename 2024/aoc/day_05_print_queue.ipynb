{
 "cells": [
  {
   "cell_type": "code",
   "execution_count": 1,
   "metadata": {},
   "outputs": [
    {
     "data": {
      "text/plain": [
       "'47|53\\n97|13\\n97|61\\n97|47\\n75|29\\n61|13\\n75|53\\n29|13\\n97|29\\n53|29\\n61|53\\n97|53\\n61|29\\n47|13\\n75|47\\n97|75\\n47|61\\n75|61\\n47|29\\n75|13\\n53|13\\n\\n75,47,61,53,29\\n97,61,53,29,13\\n75,29,13\\n75,97,47,61,53\\n61,13,29\\n97,13,75,29,47'"
      ]
     },
     "execution_count": 1,
     "metadata": {},
     "output_type": "execute_result"
    }
   ],
   "source": [
    "import aocd\n",
    "puzzle = aocd.get_puzzle(year=2024, day=5)\n",
    "\n",
    "puzzle.examples[0].input_data"
   ]
  },
  {
   "cell_type": "code",
   "execution_count": 5,
   "metadata": {},
   "outputs": [],
   "source": [
    "import numpy as np\n",
    "from collections import defaultdict"
   ]
  },
  {
   "cell_type": "code",
   "execution_count": 13,
   "metadata": {},
   "outputs": [
    {
     "data": {
      "text/plain": [
       "(defaultdict(set,\n",
       "             {47: {13, 29, 53, 61},\n",
       "              97: {13, 29, 47, 53, 61, 75},\n",
       "              75: {13, 29, 47, 53, 61},\n",
       "              61: {13, 29, 53},\n",
       "              29: {13},\n",
       "              53: {13, 29}}),\n",
       " [[75, 47, 61, 53, 29],\n",
       "  [97, 61, 53, 29, 13],\n",
       "  [75, 29, 13],\n",
       "  [75, 97, 47, 61, 53],\n",
       "  [61, 13, 29],\n",
       "  [97, 13, 75, 29, 47]])"
      ]
     },
     "execution_count": 13,
     "metadata": {},
     "output_type": "execute_result"
    }
   ],
   "source": [
    "def parse_input(input_data):\n",
    "    befores = defaultdict(set)\n",
    "    prints = []\n",
    "\n",
    "    for line in input_data.splitlines():\n",
    "        if \"|\" in line:\n",
    "            lhs, rhs = map(int, line.split(\"|\"))\n",
    "            befores[lhs] |= {rhs}\n",
    "\n",
    "        if \",\" in line:\n",
    "            prints.append(list(map(int, line.split(\",\"))))\n",
    "\n",
    "    return befores, prints\n",
    "\n",
    "parse_input(puzzle.examples[0].input_data)"
   ]
  },
  {
   "cell_type": "code",
   "execution_count": 10,
   "metadata": {},
   "outputs": [],
   "source": [
    "def topological_sort(forward_edges):\n",
    "    backward_edges = defaultdict(set)\n",
    "    for from_, tos in forward_edges.items():\n",
    "        for to in tos:\n",
    "            backward_edges[to].add(from_)\n",
    "\n",
    "    sources = [node for node in forward_edges if node not in backward_edges]\n",
    "\n",
    "    order = []\n",
    "    while sources:\n",
    "        node = sources.pop()\n",
    "        order.append(node)\n",
    "        for child in forward_edges[node]:\n",
    "            if child not in order and child not in sources:\n",
    "                sources.append(child)\n",
    "\n",
    "    return order"
   ]
  },
  {
   "cell_type": "code",
   "execution_count": 15,
   "metadata": {},
   "outputs": [],
   "source": [
    "befores, prints = parse_input(puzzle.examples[0].input_data)\n",
    "\n",
    "\n",
    "def is_print_in_right_order(befores, print):\n",
    "    seen = set()\n",
    "    for page in print:\n",
    "        seen |= {page}\n",
    "        if befores[page] & seen:\n",
    "            return False\n",
    "\n",
    "    return True\n",
    "\n",
    "\n",
    "def sum_of_middle_page_numbers_in_right_order(befores, prints):\n",
    "    in_right_orders = (\n",
    "        print for print in prints if is_print_in_right_order(befores, print)\n",
    "    )\n",
    "    return sum(print[len(print) // 2] for print in in_right_orders)"
   ]
  },
  {
   "cell_type": "code",
   "execution_count": 17,
   "metadata": {},
   "outputs": [
    {
     "name": "stdout",
     "output_type": "stream",
     "text": [
      "sum_of_middle_page_numbers_in_right_order(*parse_input(example.input_data))=143 - example.answer_a='143'\n"
     ]
    }
   ],
   "source": [
    "for example in puzzle.examples:\n",
    "    print(\n",
    "        f\"{sum_of_middle_page_numbers_in_right_order(*parse_input(example.input_data))=} - {example.answer_a=}\"\n",
    "    )"
   ]
  },
  {
   "cell_type": "code",
   "execution_count": 18,
   "metadata": {},
   "outputs": [
    {
     "name": "stdout",
     "output_type": "stream",
     "text": [
      "\u001b[32mThat's the right answer!  You are one gold star closer to finding the Chief Historian. [Continue to Part Two]\u001b[0m\n"
     ]
    },
    {
     "data": {
      "text/plain": [
       "<urllib3.response.HTTPResponse at 0x7f2dbdf41690>"
      ]
     },
     "execution_count": 18,
     "metadata": {},
     "output_type": "execute_result"
    }
   ],
   "source": [
    "aocd.submit(\n",
    "    sum_of_middle_page_numbers_in_right_order(*parse_input(puzzle.input_data)),\n",
    "    part=\"a\",\n",
    "    year=2024,\n",
    "    day=5,\n",
    ")"
   ]
  },
  {
   "cell_type": "code",
   "execution_count": 9,
   "metadata": {},
   "outputs": [],
   "source": [
    "valid_patches = [\n",
    "    r\"M.M.A.S.S\",\n",
    "    r\"M.S.A.M.S\",\n",
    "    r\"S.M.A.S.M\",\n",
    "    r\"S.S.A.M.M\",\n",
    "]\n",
    "valid_patches = re.compile(r\"|\".join(valid_patches))\n",
    "\n",
    "\n",
    "def patches(matrix):\n",
    "    for row in range(len(matrix) - 2):\n",
    "        for col in range(len(matrix) - 2):\n",
    "            yield \"\".join(matrix[row : row + 3, col : col + 3].flatten())\n",
    "\n",
    "\n",
    "def count_x_mas(input_data):\n",
    "    matrix = parse_input(input_data)\n",
    "    return sum(valid_patches.match(patch) is not None for patch in patches(matrix))"
   ]
  },
  {
   "cell_type": "code",
   "execution_count": 10,
   "metadata": {},
   "outputs": [
    {
     "name": "stdout",
     "output_type": "stream",
     "text": [
      "9 9\n"
     ]
    }
   ],
   "source": [
    "patch_example = \"\"\".M.S......\n",
    "..A..MSMS.\n",
    ".M.S.MAA..\n",
    "..A.ASMSM.\n",
    ".M.S.M....\n",
    "..........\n",
    "S.S.S.S.S.\n",
    ".A.A.A.A..\n",
    "M.M.M.M.M.\n",
    "..........\n",
    "\"\"\"\n",
    "\n",
    "print(9, count_x_mas(patch_example))"
   ]
  },
  {
   "cell_type": "code",
   "execution_count": 11,
   "metadata": {},
   "outputs": [
    {
     "name": "stdout",
     "output_type": "stream",
     "text": [
      "aocd will not submit that answer again. At 2024-12-08 15:35:33.549900-05:00 you've previously submitted 1745 and the server responded with:\n",
      "\u001b[32mThat's the right answer!  You are one gold star closer to finding the Chief Historian.You have completed Day 4! You can [Shareon\n",
      "  Bluesky\n",
      "Twitter\n",
      "Mastodon] this victory or [Return to Your Advent Calendar].\u001b[0m\n"
     ]
    }
   ],
   "source": [
    "aocd.submit(count_x_mas(puzzle.input_data), part='b', year=2024, day=4)"
   ]
  },
  {
   "cell_type": "code",
   "execution_count": null,
   "metadata": {},
   "outputs": [],
   "source": []
  }
 ],
 "metadata": {
  "kernelspec": {
   "display_name": ".venv",
   "language": "python",
   "name": "python3"
  },
  "language_info": {
   "codemirror_mode": {
    "name": "ipython",
    "version": 3
   },
   "file_extension": ".py",
   "mimetype": "text/x-python",
   "name": "python",
   "nbconvert_exporter": "python",
   "pygments_lexer": "ipython3",
   "version": "3.12.5"
  }
 },
 "nbformat": 4,
 "nbformat_minor": 2
}
