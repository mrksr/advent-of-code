{
 "cells": [
  {
   "cell_type": "code",
   "execution_count": 1,
   "metadata": {},
   "outputs": [
    {
     "data": {
      "text/plain": [
       "'0123\\n1234\\n8765\\n9876'"
      ]
     },
     "execution_count": 1,
     "metadata": {},
     "output_type": "execute_result"
    }
   ],
   "source": [
    "import aocd\n",
    "puzzle = aocd.get_puzzle(year=2024, day=10)\n",
    "\n",
    "puzzle.examples[0].input_data"
   ]
  },
  {
   "cell_type": "code",
   "execution_count": 2,
   "metadata": {},
   "outputs": [],
   "source": [
    "import numpy as np"
   ]
  },
  {
   "cell_type": "code",
   "execution_count": 3,
   "metadata": {},
   "outputs": [
    {
     "data": {
      "text/plain": [
       "array([[0, 1, 2, 3],\n",
       "       [1, 2, 3, 4],\n",
       "       [8, 7, 6, 5],\n",
       "       [9, 8, 7, 6]])"
      ]
     },
     "execution_count": 3,
     "metadata": {},
     "output_type": "execute_result"
    }
   ],
   "source": [
    "def parse_input(input_data):\n",
    "    return np.array([\n",
    "        [int(x) for x in line]\n",
    "        for line in input_data.splitlines()\n",
    "    ])\n",
    "\n",
    "\n",
    "parse_input(puzzle.examples[0].input_data)"
   ]
  },
  {
   "cell_type": "code",
   "execution_count": 4,
   "metadata": {},
   "outputs": [
    {
     "data": {
      "text/plain": [
       "{(3, 0)}"
      ]
     },
     "execution_count": 4,
     "metadata": {},
     "output_type": "execute_result"
    }
   ],
   "source": [
    "def trailheads(grid):\n",
    "    return [tuple(t) for t in np.argwhere(grid == 0)]\n",
    "\n",
    "def directions(grid, position):\n",
    "    x, y = position\n",
    "    if x > 0:\n",
    "        yield (x - 1, y)\n",
    "    if x < grid.shape[0] - 1:\n",
    "        yield (x + 1, y)\n",
    "\n",
    "    if y > 0:\n",
    "        yield (x, y - 1)\n",
    "    if y < grid.shape[1] - 1:\n",
    "        yield (x, y + 1)\n",
    "\n",
    "def reachable_summits(grid, position):\n",
    "    def next_levels(position):\n",
    "        this_level = grid[position]\n",
    "        for direction in directions(grid, position):\n",
    "            if grid[direction] == this_level + 1:\n",
    "                yield direction\n",
    "\n",
    "    if grid[position] == 9:\n",
    "        yield position\n",
    "\n",
    "    for next_position in next_levels(position):\n",
    "        yield from reachable_summits(grid, next_position)\n",
    "\n",
    "\n",
    "def sum_of_trailhead_scores(grid):\n",
    "    return sum(\n",
    "        len(set(reachable_summits(grid, trailhead)))\n",
    "        for trailhead in trailheads(grid)\n",
    "    )\n",
    "\n",
    "grid = parse_input(puzzle.examples[0].input_data)\n",
    "set(reachable_summits(grid, (0, 0)))"
   ]
  },
  {
   "cell_type": "code",
   "execution_count": 5,
   "metadata": {},
   "outputs": [
    {
     "data": {
      "text/plain": [
       "(36, 36)"
      ]
     },
     "execution_count": 5,
     "metadata": {},
     "output_type": "execute_result"
    }
   ],
   "source": [
    "grid = parse_input(\"\"\"89010123\n",
    "78121874\n",
    "87430965\n",
    "96549874\n",
    "45678903\n",
    "32019012\n",
    "01329801\n",
    "10456732\"\"\")\n",
    "\n",
    "36, sum_of_trailhead_scores(grid)"
   ]
  },
  {
   "cell_type": "code",
   "execution_count": 6,
   "metadata": {},
   "outputs": [
    {
     "name": "stdout",
     "output_type": "stream",
     "text": [
      "aocd will not submit that answer again. At 2024-12-10 16:14:10.448037-05:00 you've previously submitted 548 and the server responded with:\n",
      "\u001b[32mThat's the right answer!  You are one gold star closer to finding the Chief Historian. [Continue to Part Two]\u001b[0m\n"
     ]
    }
   ],
   "source": [
    "aocd.submit(\n",
    "    sum_of_trailhead_scores(parse_input(puzzle.input_data)),\n",
    "    part=\"a\",\n",
    "    year=2024,\n",
    "    day=10,\n",
    ")"
   ]
  },
  {
   "cell_type": "code",
   "execution_count": 7,
   "metadata": {},
   "outputs": [
    {
     "data": {
      "text/plain": [
       "(81, 81)"
      ]
     },
     "execution_count": 7,
     "metadata": {},
     "output_type": "execute_result"
    }
   ],
   "source": [
    "def sum_of_trailhead_ratings(grid):\n",
    "    return sum(\n",
    "        len(list(reachable_summits(grid, trailhead)))\n",
    "        for trailhead in trailheads(grid)\n",
    "    )\n",
    "\n",
    "\n",
    "grid = parse_input(\"\"\"89010123\n",
    "78121874\n",
    "87430965\n",
    "96549874\n",
    "45678903\n",
    "32019012\n",
    "01329801\n",
    "10456732\"\"\")\n",
    "\n",
    "81, sum_of_trailhead_ratings(grid)"
   ]
  },
  {
   "cell_type": "code",
   "execution_count": 8,
   "metadata": {},
   "outputs": [
    {
     "name": "stdout",
     "output_type": "stream",
     "text": [
      "aocd will not submit that answer again. At 2024-12-10 16:16:36.512023-05:00 you've previously submitted 1252 and the server responded with:\n",
      "\u001b[32mThat's the right answer!  You are one gold star closer to finding the Chief Historian.You have completed Day 10! You can [Shareon\n",
      "  Bluesky\n",
      "Twitter\n",
      "Mastodon] this victory or [Return to Your Advent Calendar].\u001b[0m\n"
     ]
    }
   ],
   "source": [
    "aocd.submit(\n",
    "    sum_of_trailhead_ratings(parse_input(puzzle.input_data)),\n",
    "    part=\"b\",\n",
    "    year=2024,\n",
    "    day=10,\n",
    ")"
   ]
  },
  {
   "cell_type": "code",
   "execution_count": null,
   "metadata": {},
   "outputs": [],
   "source": []
  }
 ],
 "metadata": {
  "kernelspec": {
   "display_name": ".venv",
   "language": "python",
   "name": "python3"
  },
  "language_info": {
   "codemirror_mode": {
    "name": "ipython",
    "version": 3
   },
   "file_extension": ".py",
   "mimetype": "text/x-python",
   "name": "python",
   "nbconvert_exporter": "python",
   "pygments_lexer": "ipython3",
   "version": "3.12.5"
  }
 },
 "nbformat": 4,
 "nbformat_minor": 2
}
