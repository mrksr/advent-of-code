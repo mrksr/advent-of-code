{
 "cells": [
  {
   "cell_type": "code",
   "execution_count": 3,
   "metadata": {},
   "outputs": [],
   "source": [
    "import aocd\n",
    "puzzle = aocd.get_puzzle(year=2024, day=2)"
   ]
  },
  {
   "cell_type": "code",
   "execution_count": 4,
   "metadata": {},
   "outputs": [
    {
     "data": {
      "text/plain": [
       "'7 6 4 2 1\\n1 2 7 8 9\\n9 7 6 2 1\\n1 3 2 4 5\\n8 6 4 4 1\\n1 3 6 7 9'"
      ]
     },
     "execution_count": 4,
     "metadata": {},
     "output_type": "execute_result"
    }
   ],
   "source": [
    "puzzle.examples[0].input_data"
   ]
  },
  {
   "cell_type": "code",
   "execution_count": 5,
   "metadata": {},
   "outputs": [
    {
     "data": {
      "text/plain": [
       "[array([7, 6, 4, 2, 1]),\n",
       " array([1, 2, 7, 8, 9]),\n",
       " array([9, 7, 6, 2, 1]),\n",
       " array([1, 3, 2, 4, 5]),\n",
       " array([8, 6, 4, 4, 1]),\n",
       " array([1, 3, 6, 7, 9])]"
      ]
     },
     "execution_count": 5,
     "metadata": {},
     "output_type": "execute_result"
    }
   ],
   "source": [
    "import numpy as np\n",
    "def parse_reports(input_data):\n",
    "    return [np.array([int(number) for number in line.split()]) for line in input_data.splitlines() if line]\n",
    "\n",
    "parse_reports(puzzle.examples[0].input_data)"
   ]
  },
  {
   "cell_type": "code",
   "execution_count": 20,
   "metadata": {},
   "outputs": [],
   "source": [
    "def is_report_safe(report):\n",
    "    diffs = np.diff(report, axis=-1)\n",
    "    diffs_same_sign = np.all(diffs > 0, axis=-1) | np.all(diffs < 0, axis=-1)\n",
    "    diffs_correct_magnitude = np.all((np.abs(diffs) >= 1) & (np.abs(diffs) <= 3), axis=-1)\n",
    "\n",
    "    return diffs_same_sign & diffs_correct_magnitude\n",
    "\n",
    "def num_safe_reports(reports):\n",
    "    return np.sum([np.sum(is_report_safe(report)) for report in reports])"
   ]
  },
  {
   "cell_type": "code",
   "execution_count": 7,
   "metadata": {},
   "outputs": [
    {
     "name": "stdout",
     "output_type": "stream",
     "text": [
      "[array([7, 6, 4, 2, 1]), array([1, 2, 7, 8, 9]), array([9, 7, 6, 2, 1]), array([1, 3, 2, 4, 5]), array([8, 6, 4, 4, 1]), array([1, 3, 6, 7, 9])]\n",
      "[ True False False False False  True]\n",
      "Safe Reports: num_safe_reports(report)=np.int64(2) - example.answer_a='2'\n"
     ]
    }
   ],
   "source": [
    "for example in puzzle.examples:\n",
    "    report = parse_reports(example.input_data)\n",
    "    print(report)\n",
    "    print(is_report_safe(report))\n",
    "    print(f\"Safe Reports: {num_safe_reports(report)=} - {example.answer_a=}\")"
   ]
  },
  {
   "cell_type": "code",
   "execution_count": 8,
   "metadata": {},
   "outputs": [
    {
     "name": "stderr",
     "output_type": "stream",
     "text": [
      "coerced int64 value np.int64(598) for 2024/02 to '598'\n"
     ]
    },
    {
     "name": "stdout",
     "output_type": "stream",
     "text": [
      "Part a already solved with same answer: 598\n"
     ]
    }
   ],
   "source": [
    "aocd.submit(num_safe_reports(parse_reports(puzzle.input_data)), part='a', year=2024, day=2)"
   ]
  },
  {
   "cell_type": "code",
   "execution_count": 50,
   "metadata": {},
   "outputs": [],
   "source": [
    "def is_report_safe_tolerate(report):\n",
    "    candidates = np.stack(\n",
    "        [np.delete(report, ix) for ix in range(len(report))],\n",
    "        axis=0,\n",
    "    )\n",
    "\n",
    "    return is_report_safe(candidates)\n",
    "\n",
    "\n",
    "def num_safe_reports_tolerate(reports):\n",
    "    return sum(int(is_report_safe_tolerate(report)) for report in reports)"
   ]
  },
  {
   "cell_type": "code",
   "execution_count": 46,
   "metadata": {},
   "outputs": [
    {
     "name": "stdout",
     "output_type": "stream",
     "text": [
      "[array([7, 6, 4, 2, 1]), array([1, 2, 7, 8, 9]), array([9, 7, 6, 2, 1]), array([1, 3, 2, 4, 5]), array([8, 6, 4, 4, 1]), array([1, 3, 6, 7, 9])]\n",
      "[False, False, False, False, False, False]\n",
      "Safe Reports: num_safe_reports_tolerate(report)=0 - example.answer_b='4'\n"
     ]
    }
   ],
   "source": [
    "for example in puzzle.examples:\n",
    "    report = parse_reports(example.input_data)\n",
    "    print(report)\n",
    "    print([is_report_safe_tolerate(r) for r in report])\n",
    "    print(f\"Safe Reports: {num_safe_reports_tolerate(report)=} - {example.answer_b=}\")"
   ]
  },
  {
   "cell_type": "code",
   "execution_count": 43,
   "metadata": {},
   "outputs": [
    {
     "name": "stderr",
     "output_type": "stream",
     "text": [
      "wrong answer: That's not the right answer; your answer is too low.  If you're stuck, make sure you're using the full input data; there are also some general tips on the about page, or you can ask for hints on the subreddit.  Please wait one minute before trying again. [Return to Day 2]\n"
     ]
    },
    {
     "name": "stdout",
     "output_type": "stream",
     "text": [
      "\u001b[31mThat's not the right answer; your answer is too low.  If you're stuck, make sure you're using the full input data; there are also some general tips on the about page, or you can ask for hints on the subreddit.  Please wait one minute before trying again. [Return to Day 2]\u001b[0m\n"
     ]
    },
    {
     "data": {
      "text/plain": [
       "<urllib3.response.HTTPResponse at 0x7fa485f59d20>"
      ]
     },
     "execution_count": 43,
     "metadata": {},
     "output_type": "execute_result"
    }
   ],
   "source": [
    "aocd.submit(num_safe_reports_tolerate(parse_reports(puzzle.input_data)), part='b', year=2024, day=2)"
   ]
  },
  {
   "cell_type": "code",
   "execution_count": 49,
   "metadata": {},
   "outputs": [
    {
     "data": {
      "text/plain": [
       "623"
      ]
     },
     "execution_count": 49,
     "metadata": {},
     "output_type": "execute_result"
    }
   ],
   "source": [
    "num_safe_reports_tolerate(parse_reports(puzzle.input_data))"
   ]
  },
  {
   "cell_type": "code",
   "execution_count": null,
   "metadata": {},
   "outputs": [],
   "source": []
  }
 ],
 "metadata": {
  "kernelspec": {
   "display_name": "Python 3 (ipykernel)",
   "language": "python",
   "name": "python3"
  },
  "language_info": {
   "codemirror_mode": {
    "name": "ipython",
    "version": 3
   },
   "file_extension": ".py",
   "mimetype": "text/x-python",
   "name": "python",
   "nbconvert_exporter": "python",
   "pygments_lexer": "ipython3",
   "version": "3.12.5"
  }
 },
 "nbformat": 4,
 "nbformat_minor": 4
}
