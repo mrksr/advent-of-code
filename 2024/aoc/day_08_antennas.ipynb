{
 "cells": [
  {
   "cell_type": "code",
   "execution_count": 1,
   "metadata": {},
   "outputs": [
    {
     "data": {
      "text/plain": [
       "'............\\n........0...\\n.....0......\\n.......0....\\n....0.......\\n......A.....\\n............\\n............\\n........A...\\n.........A..\\n............\\n............'"
      ]
     },
     "execution_count": 1,
     "metadata": {},
     "output_type": "execute_result"
    }
   ],
   "source": [
    "import aocd\n",
    "puzzle = aocd.get_puzzle(year=2024, day=8)\n",
    "\n",
    "puzzle.examples[0].input_data"
   ]
  },
  {
   "cell_type": "code",
   "execution_count": 2,
   "metadata": {},
   "outputs": [],
   "source": [
    "import numpy as np\n",
    "import itertools as it"
   ]
  },
  {
   "cell_type": "code",
   "execution_count": 3,
   "metadata": {},
   "outputs": [
    {
     "data": {
      "text/plain": [
       "array([['.', '.', '.', '.', '.', '.', '.', '.', '.', '.', '.', '.'],\n",
       "       ['.', '.', '.', '.', '.', '.', '.', '.', '0', '.', '.', '.'],\n",
       "       ['.', '.', '.', '.', '.', '0', '.', '.', '.', '.', '.', '.'],\n",
       "       ['.', '.', '.', '.', '.', '.', '.', '0', '.', '.', '.', '.'],\n",
       "       ['.', '.', '.', '.', '0', '.', '.', '.', '.', '.', '.', '.'],\n",
       "       ['.', '.', '.', '.', '.', '.', 'A', '.', '.', '.', '.', '.'],\n",
       "       ['.', '.', '.', '.', '.', '.', '.', '.', '.', '.', '.', '.'],\n",
       "       ['.', '.', '.', '.', '.', '.', '.', '.', '.', '.', '.', '.'],\n",
       "       ['.', '.', '.', '.', '.', '.', '.', '.', 'A', '.', '.', '.'],\n",
       "       ['.', '.', '.', '.', '.', '.', '.', '.', '.', 'A', '.', '.'],\n",
       "       ['.', '.', '.', '.', '.', '.', '.', '.', '.', '.', '.', '.'],\n",
       "       ['.', '.', '.', '.', '.', '.', '.', '.', '.', '.', '.', '.']],\n",
       "      dtype='<U1')"
      ]
     },
     "execution_count": 3,
     "metadata": {},
     "output_type": "execute_result"
    }
   ],
   "source": [
    "def parse_input(input_data):\n",
    "    return np.array([list(line) for line in input_data.splitlines() if line])\n",
    "\n",
    "\n",
    "parse_input(puzzle.examples[0].input_data)"
   ]
  },
  {
   "cell_type": "code",
   "execution_count": 4,
   "metadata": {},
   "outputs": [
    {
     "data": {
      "text/plain": [
       "defaultdict(list,\n",
       "            {np.str_('0'): array([[1, 8],\n",
       "                    [2, 5],\n",
       "                    [3, 7],\n",
       "                    [4, 4]]),\n",
       "             np.str_('A'): array([[5, 6],\n",
       "                    [8, 8],\n",
       "                    [9, 9]])})"
      ]
     },
     "execution_count": 4,
     "metadata": {},
     "output_type": "execute_result"
    }
   ],
   "source": [
    "from collections import defaultdict\n",
    "\n",
    "def antenna_groups(grid):\n",
    "    antennas = defaultdict(list)\n",
    "    for x, row in enumerate(grid):\n",
    "        for y, cell in enumerate(row):\n",
    "            antennas[cell].append(np.array([x, y]))\n",
    "\n",
    "    del antennas[\".\"]\n",
    "    for key, value in antennas.items():\n",
    "        antennas[key] = np.array(value)\n",
    "    return antennas\n",
    "\n",
    "grid= parse_input(puzzle.examples[0].input_data)\n",
    "\n",
    "groups = antenna_groups(grid)\n",
    "groups"
   ]
  },
  {
   "cell_type": "code",
   "execution_count": 5,
   "metadata": {},
   "outputs": [
    {
     "data": {
      "text/plain": [
       "array([[ 0,  6],\n",
       "       [ 0, 11],\n",
       "       [ 1,  3],\n",
       "       [ 2,  4],\n",
       "       [ 2, 10],\n",
       "       [ 3,  2],\n",
       "       [ 4,  9],\n",
       "       [ 5,  1],\n",
       "       [ 5,  6],\n",
       "       [ 6,  3],\n",
       "       [ 7,  0],\n",
       "       [ 7,  7],\n",
       "       [10, 10],\n",
       "       [11, 10]])"
      ]
     },
     "execution_count": 5,
     "metadata": {},
     "output_type": "execute_result"
    }
   ],
   "source": [
    "def antinodes(grid, antennas):\n",
    "    def candidates():\n",
    "        for lhs, rhs in it.combinations(antennas, 2):\n",
    "            diff = lhs - rhs\n",
    "            yield lhs + diff\n",
    "            yield rhs - diff\n",
    "\n",
    "    for candidate in candidates():\n",
    "        if np.all(0 <= candidate) and np.all(candidate < grid.shape):\n",
    "            yield candidate\n",
    "\n",
    "\n",
    "def all_antinodes(grid):\n",
    "    groups = antenna_groups(grid)\n",
    "\n",
    "    antis = np.concatenate([list(antinodes(grid, group)) for group in groups.values()])\n",
    "    return np.unique(antis, axis=0)\n",
    "\n",
    "\n",
    "def num_antinodes(grid):\n",
    "    return len(all_antinodes(grid))\n",
    "\n",
    "\n",
    "all_antinodes(grid)"
   ]
  },
  {
   "cell_type": "code",
   "execution_count": 6,
   "metadata": {},
   "outputs": [
    {
     "name": "stdout",
     "output_type": "stream",
     "text": [
      "(num_antinodes(parse_input(example.input_data)))=14 - example.answer_a='14'\n"
     ]
    }
   ],
   "source": [
    "for example in puzzle.examples:\n",
    "    print(\n",
    "        f\"{(num_antinodes(parse_input(example.input_data)))=} - {example.answer_a=}\"\n",
    "    )"
   ]
  },
  {
   "cell_type": "code",
   "execution_count": 7,
   "metadata": {},
   "outputs": [
    {
     "name": "stdout",
     "output_type": "stream",
     "text": [
      "aocd will not submit that answer again. At 2024-12-10 13:28:56.200224-05:00 you've previously submitted 381 and the server responded with:\n",
      "\u001b[32mThat's the right answer!  You are one gold star closer to finding the Chief Historian. [Continue to Part Two]\u001b[0m\n"
     ]
    }
   ],
   "source": [
    "aocd.submit(\n",
    "    num_antinodes(parse_input(puzzle.input_data)),\n",
    "    part=\"a\",\n",
    "    year=2024,\n",
    "    day=8,\n",
    ")"
   ]
  },
  {
   "cell_type": "code",
   "execution_count": 8,
   "metadata": {},
   "outputs": [
    {
     "data": {
      "text/plain": [
       "array([[ 0,  0],\n",
       "       [ 0,  1],\n",
       "       [ 0,  6],\n",
       "       [ 0, 11],\n",
       "       [ 1,  1],\n",
       "       [ 1,  3],\n",
       "       [ 1,  8],\n",
       "       [ 2,  2],\n",
       "       [ 2,  4],\n",
       "       [ 2,  5],\n",
       "       [ 2, 10],\n",
       "       [ 3,  2],\n",
       "       [ 3,  3],\n",
       "       [ 3,  7],\n",
       "       [ 4,  4],\n",
       "       [ 4,  9],\n",
       "       [ 5,  1],\n",
       "       [ 5,  5],\n",
       "       [ 5,  6],\n",
       "       [ 5, 11],\n",
       "       [ 6,  3],\n",
       "       [ 6,  6],\n",
       "       [ 7,  0],\n",
       "       [ 7,  5],\n",
       "       [ 7,  7],\n",
       "       [ 8,  2],\n",
       "       [ 8,  8],\n",
       "       [ 9,  4],\n",
       "       [ 9,  9],\n",
       "       [10,  1],\n",
       "       [10, 10],\n",
       "       [11,  3],\n",
       "       [11, 10],\n",
       "       [11, 11]])"
      ]
     },
     "execution_count": 8,
     "metadata": {},
     "output_type": "execute_result"
    }
   ],
   "source": [
    "def aligned_antinodes(grid, antennas):\n",
    "    # Slight overkill...\n",
    "    max_steps = max(grid.shape)\n",
    "\n",
    "    def candidates():\n",
    "        for lhs, rhs in it.combinations(antennas, 2):\n",
    "            diff = lhs - rhs\n",
    "            for i in range(max_steps):\n",
    "                yield lhs + i * diff\n",
    "                yield rhs - i * diff\n",
    "\n",
    "    for candidate in candidates():\n",
    "        if np.all(0 <= candidate) and np.all(candidate < grid.shape):\n",
    "            yield candidate\n",
    "\n",
    "\n",
    "def all_aligned_antinodes(grid):\n",
    "    groups = antenna_groups(grid)\n",
    "\n",
    "    antis = np.concatenate(\n",
    "        [list(aligned_antinodes(grid, group)) for group in groups.values()]\n",
    "    )\n",
    "    return np.unique(antis, axis=0)\n",
    "\n",
    "\n",
    "def num_aligned_antinodes(grid):\n",
    "    return len(all_aligned_antinodes(grid))\n",
    "\n",
    "\n",
    "all_aligned_antinodes(grid)"
   ]
  },
  {
   "cell_type": "code",
   "execution_count": 9,
   "metadata": {},
   "outputs": [
    {
     "name": "stdout",
     "output_type": "stream",
     "text": [
      "num_aligned_antinodes(parse_input(example.input_data))=34 - example.answer_b='...#......##'\n"
     ]
    }
   ],
   "source": [
    "for example in puzzle.examples:\n",
    "    print(\n",
    "        f\"{num_aligned_antinodes(parse_input(example.input_data))=} - {example.answer_b=}\"\n",
    "    )"
   ]
  },
  {
   "cell_type": "code",
   "execution_count": 10,
   "metadata": {},
   "outputs": [
    {
     "name": "stdout",
     "output_type": "stream",
     "text": [
      "aocd will not submit that answer again. At 2024-12-10 13:33:30.976316-05:00 you've previously submitted 1184 and the server responded with:\n",
      "\u001b[32mThat's the right answer!  You are one gold star closer to finding the Chief Historian.You have completed Day 8! You can [Shareon\n",
      "  Bluesky\n",
      "Twitter\n",
      "Mastodon] this victory or [Return to Your Advent Calendar].\u001b[0m\n"
     ]
    }
   ],
   "source": [
    "aocd.submit(\n",
    "    num_aligned_antinodes(parse_input(puzzle.input_data)),\n",
    "    part=\"b\",\n",
    "    year=2024,\n",
    "    day=8,\n",
    ")"
   ]
  },
  {
   "cell_type": "code",
   "execution_count": null,
   "metadata": {},
   "outputs": [],
   "source": []
  }
 ],
 "metadata": {
  "kernelspec": {
   "display_name": ".venv",
   "language": "python",
   "name": "python3"
  },
  "language_info": {
   "codemirror_mode": {
    "name": "ipython",
    "version": 3
   },
   "file_extension": ".py",
   "mimetype": "text/x-python",
   "name": "python",
   "nbconvert_exporter": "python",
   "pygments_lexer": "ipython3",
   "version": "3.12.5"
  }
 },
 "nbformat": 4,
 "nbformat_minor": 2
}
