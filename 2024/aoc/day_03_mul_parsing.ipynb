{
 "cells": [
  {
   "cell_type": "code",
   "execution_count": 2,
   "metadata": {},
   "outputs": [
    {
     "data": {
      "text/plain": [
       "'xmul(2,4)%&mul[3,7]!@^do_not_mul(5,5)+mul(32,64]then(mul(11,8)mul(8,5))'"
      ]
     },
     "execution_count": 2,
     "metadata": {},
     "output_type": "execute_result"
    }
   ],
   "source": [
    "import aocd\n",
    "puzzle = aocd.get_puzzle(year=2024, day=3)\n",
    "\n",
    "puzzle.examples[0].input_data"
   ]
  },
  {
   "cell_type": "code",
   "execution_count": 3,
   "metadata": {},
   "outputs": [],
   "source": [
    "import re\n",
    "\n",
    "mul_regex = re.compile(r'mul\\((\\d+),(\\d+)\\)')\n",
    "\n",
    "def process_input(input_data):\n",
    "    return sum(\n",
    "        lhs * rhs\n",
    "        for match in mul_regex.finditer(input_data)\n",
    "        for lhs, rhs in [map(int, match.groups())]\n",
    "    )"
   ]
  },
  {
   "cell_type": "code",
   "execution_count": 8,
   "metadata": {},
   "outputs": [
    {
     "name": "stdout",
     "output_type": "stream",
     "text": [
      "xmul(2,4)%&mul[3,7]!@^do_not_mul(5,5)+mul(32,64]then(mul(11,8)mul(8,5))\n",
      "Safe Reports: process_input(example.input_data)=161 - example.answer_a='mul'\n"
     ]
    }
   ],
   "source": [
    "for example in puzzle.examples:\n",
    "    print(example.input_data)\n",
    "    print(f\"{process_input(example.input_data)=} - {example.answer_a=}\")"
   ]
  },
  {
   "cell_type": "code",
   "execution_count": 6,
   "metadata": {},
   "outputs": [
    {
     "name": "stdout",
     "output_type": "stream",
     "text": [
      "\u001b[32mThat's the right answer!  You are one gold star closer to finding the Chief Historian. [Continue to Part Two]\u001b[0m\n"
     ]
    },
    {
     "data": {
      "text/plain": [
       "<urllib3.response.HTTPResponse at 0x7fe07a03a860>"
      ]
     },
     "execution_count": 6,
     "metadata": {},
     "output_type": "execute_result"
    }
   ],
   "source": [
    "aocd.submit(process_input(puzzle.input_data), part='a', year=2024, day=3)"
   ]
  },
  {
   "cell_type": "code",
   "execution_count": 12,
   "metadata": {},
   "outputs": [],
   "source": [
    "do_regex = re.compile(r'do\\(\\)')\n",
    "dont_regex = re.compile(r'don\\'t\\(\\)')\n",
    "\n",
    "def lex_input(input_data):\n",
    "    enabled = True\n",
    "    for ix in range(0, len(input_data)):\n",
    "        if do_regex.match(input_data, ix):\n",
    "            enabled = True\n",
    "        elif dont_regex.match(input_data, ix):\n",
    "            enabled = False\n",
    "        elif enabled and (match := mul_regex.match(input_data, ix)):\n",
    "            lhs, rhs = map(int, match.groups())\n",
    "            yield lhs * rhs\n",
    "\n",
    "def process_with_do_dont(input_data):\n",
    "    return sum(lex_input(input_data))"
   ]
  },
  {
   "cell_type": "code",
   "execution_count": 13,
   "metadata": {},
   "outputs": [
    {
     "name": "stdout",
     "output_type": "stream",
     "text": [
      "xmul(2,4)%&mul[3,7]!@^do_not_mul(5,5)+mul(32,64]then(mul(11,8)mul(8,5))\n",
      "Safe Reports: process_with_do_dont(example.input_data)=161 - example.answer_b=None\n"
     ]
    }
   ],
   "source": [
    "for example in puzzle.examples:\n",
    "    print(example.input_data)\n",
    "    print(f\"{process_with_do_dont(example.input_data)=} - {example.answer_b=}\")"
   ]
  },
  {
   "cell_type": "code",
   "execution_count": 17,
   "metadata": {},
   "outputs": [
    {
     "name": "stdout",
     "output_type": "stream",
     "text": [
      "\u001b[32mThat's the right answer!  You are one gold star closer to finding the Chief Historian.You have completed Day 3! You can [Shareon\n",
      "  Bluesky\n",
      "Twitter\n",
      "Mastodon] this victory or [Return to Your Advent Calendar].\u001b[0m\n"
     ]
    },
    {
     "data": {
      "text/plain": [
       "<urllib3.response.HTTPResponse at 0x7fe0362d1f60>"
      ]
     },
     "execution_count": 17,
     "metadata": {},
     "output_type": "execute_result"
    }
   ],
   "source": [
    "aocd.submit(process_with_do_dont(puzzle.input_data), part='b', year=2024, day=3)"
   ]
  },
  {
   "cell_type": "code",
   "execution_count": null,
   "metadata": {},
   "outputs": [],
   "source": []
  }
 ],
 "metadata": {
  "kernelspec": {
   "display_name": ".venv",
   "language": "python",
   "name": "python3"
  },
  "language_info": {
   "codemirror_mode": {
    "name": "ipython",
    "version": 3
   },
   "file_extension": ".py",
   "mimetype": "text/x-python",
   "name": "python",
   "nbconvert_exporter": "python",
   "pygments_lexer": "ipython3",
   "version": "3.12.5"
  }
 },
 "nbformat": 4,
 "nbformat_minor": 2
}
