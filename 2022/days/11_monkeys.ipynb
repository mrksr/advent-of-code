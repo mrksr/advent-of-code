{
 "cells": [
  {
   "cell_type": "code",
   "execution_count": 1,
   "metadata": {},
   "outputs": [],
   "source": [
    "import numpy as np\n",
    "import pandas as pd"
   ]
  },
  {
   "cell_type": "code",
   "execution_count": 2,
   "metadata": {},
   "outputs": [],
   "source": [
    "from rich.progress import track\n",
    "\n",
    "%load_ext rich"
   ]
  },
  {
   "cell_type": "code",
   "execution_count": 3,
   "metadata": {},
   "outputs": [],
   "source": [
    "monkey_strings = \"\"\"\n",
    "Monkey 0:\n",
    "  Starting items: 57, 58\n",
    "  Operation: new = old * 19\n",
    "  Test: divisible by 7\n",
    "    If true: throw to monkey 2\n",
    "    If false: throw to monkey 3\n",
    "\n",
    "Monkey 1:\n",
    "  Starting items: 66, 52, 59, 79, 94, 73\n",
    "  Operation: new = old + 1\n",
    "  Test: divisible by 19\n",
    "    If true: throw to monkey 4\n",
    "    If false: throw to monkey 6\n",
    "\n",
    "Monkey 2:\n",
    "  Starting items: 80\n",
    "  Operation: new = old + 6\n",
    "  Test: divisible by 5\n",
    "    If true: throw to monkey 7\n",
    "    If false: throw to monkey 5\n",
    "\n",
    "Monkey 3:\n",
    "  Starting items: 82, 81, 68, 66, 71, 83, 75, 97\n",
    "  Operation: new = old + 5\n",
    "  Test: divisible by 11\n",
    "    If true: throw to monkey 5\n",
    "    If false: throw to monkey 2\n",
    "\n",
    "Monkey 4:\n",
    "  Starting items: 55, 52, 67, 70, 69, 94, 90\n",
    "  Operation: new = old * old\n",
    "  Test: divisible by 17\n",
    "    If true: throw to monkey 0\n",
    "    If false: throw to monkey 3\n",
    "\n",
    "Monkey 5:\n",
    "  Starting items: 69, 85, 89, 91\n",
    "  Operation: new = old + 7\n",
    "  Test: divisible by 13\n",
    "    If true: throw to monkey 1\n",
    "    If false: throw to monkey 7\n",
    "\n",
    "Monkey 6:\n",
    "  Starting items: 75, 53, 73, 52, 75\n",
    "  Operation: new = old * 7\n",
    "  Test: divisible by 2\n",
    "    If true: throw to monkey 0\n",
    "    If false: throw to monkey 4\n",
    "\n",
    "Monkey 7:\n",
    "  Starting items: 94, 60, 79\n",
    "  Operation: new = old + 2\n",
    "  Test: divisible by 3\n",
    "    If true: throw to monkey 1\n",
    "    If false: throw to monkey 6\n",
    "\"\"\".strip()\n",
    "\n",
    "monkey_strings = monkey_strings.split(\"\\n\\n\")"
   ]
  },
  {
   "cell_type": "code",
   "execution_count": 4,
   "metadata": {},
   "outputs": [
    {
     "data": {
      "text/html": [
       "<pre style=\"white-space:pre;overflow-x:auto;line-height:normal;font-family:Menlo,'DejaVu Sans Mono',consolas,'Courier New',monospace\">\n",
       "<span style=\"font-weight: bold\">{</span>\n",
       "    <span style=\"color: #008080; text-decoration-color: #008080; font-weight: bold\">0</span>: <span style=\"color: #800080; text-decoration-color: #800080; font-weight: bold\">Monkey</span><span style=\"font-weight: bold\">(</span>\n",
       "        <span style=\"color: #808000; text-decoration-color: #808000\">name</span>=<span style=\"color: #008080; text-decoration-color: #008080; font-weight: bold\">0</span>,\n",
       "        <span style=\"color: #808000; text-decoration-color: #808000\">items</span>=<span style=\"font-weight: bold\">[</span><span style=\"color: #008080; text-decoration-color: #008080; font-weight: bold\">57</span>, <span style=\"color: #008080; text-decoration-color: #008080; font-weight: bold\">58</span><span style=\"font-weight: bold\">]</span>,\n",
       "        <span style=\"color: #808000; text-decoration-color: #808000\">operation</span>=<span style=\"color: #800080; text-decoration-color: #800080; font-weight: bold\">Operation</span><span style=\"font-weight: bold\">(</span><span style=\"color: #808000; text-decoration-color: #808000\">operator</span>=<span style=\"color: #008000; text-decoration-color: #008000\">'*'</span>, <span style=\"color: #808000; text-decoration-color: #808000\">rhs</span>=<span style=\"color: #008080; text-decoration-color: #008080; font-weight: bold\">19</span><span style=\"font-weight: bold\">)</span>,\n",
       "        <span style=\"color: #808000; text-decoration-color: #808000\">divisor</span>=<span style=\"color: #008080; text-decoration-color: #008080; font-weight: bold\">7</span>,\n",
       "        <span style=\"color: #808000; text-decoration-color: #808000\">throw_to</span>=<span style=\"font-weight: bold\">(</span><span style=\"color: #008080; text-decoration-color: #008080; font-weight: bold\">2</span>, <span style=\"color: #008080; text-decoration-color: #008080; font-weight: bold\">3</span><span style=\"font-weight: bold\">)</span>\n",
       "    <span style=\"font-weight: bold\">)</span>,\n",
       "    <span style=\"color: #008080; text-decoration-color: #008080; font-weight: bold\">1</span>: <span style=\"color: #800080; text-decoration-color: #800080; font-weight: bold\">Monkey</span><span style=\"font-weight: bold\">(</span>\n",
       "        <span style=\"color: #808000; text-decoration-color: #808000\">name</span>=<span style=\"color: #008080; text-decoration-color: #008080; font-weight: bold\">1</span>,\n",
       "        <span style=\"color: #808000; text-decoration-color: #808000\">items</span>=<span style=\"font-weight: bold\">[</span><span style=\"color: #008080; text-decoration-color: #008080; font-weight: bold\">66</span>, <span style=\"color: #008080; text-decoration-color: #008080; font-weight: bold\">52</span>, <span style=\"color: #008080; text-decoration-color: #008080; font-weight: bold\">59</span>, <span style=\"color: #008080; text-decoration-color: #008080; font-weight: bold\">79</span>, <span style=\"color: #008080; text-decoration-color: #008080; font-weight: bold\">94</span>, <span style=\"color: #008080; text-decoration-color: #008080; font-weight: bold\">73</span><span style=\"font-weight: bold\">]</span>,\n",
       "        <span style=\"color: #808000; text-decoration-color: #808000\">operation</span>=<span style=\"color: #800080; text-decoration-color: #800080; font-weight: bold\">Operation</span><span style=\"font-weight: bold\">(</span><span style=\"color: #808000; text-decoration-color: #808000\">operator</span>=<span style=\"color: #008000; text-decoration-color: #008000\">'+'</span>, <span style=\"color: #808000; text-decoration-color: #808000\">rhs</span>=<span style=\"color: #008080; text-decoration-color: #008080; font-weight: bold\">1</span><span style=\"font-weight: bold\">)</span>,\n",
       "        <span style=\"color: #808000; text-decoration-color: #808000\">divisor</span>=<span style=\"color: #008080; text-decoration-color: #008080; font-weight: bold\">19</span>,\n",
       "        <span style=\"color: #808000; text-decoration-color: #808000\">throw_to</span>=<span style=\"font-weight: bold\">(</span><span style=\"color: #008080; text-decoration-color: #008080; font-weight: bold\">4</span>, <span style=\"color: #008080; text-decoration-color: #008080; font-weight: bold\">6</span><span style=\"font-weight: bold\">)</span>\n",
       "    <span style=\"font-weight: bold\">)</span>,\n",
       "    <span style=\"color: #008080; text-decoration-color: #008080; font-weight: bold\">2</span>: <span style=\"color: #800080; text-decoration-color: #800080; font-weight: bold\">Monkey</span><span style=\"font-weight: bold\">(</span>\n",
       "        <span style=\"color: #808000; text-decoration-color: #808000\">name</span>=<span style=\"color: #008080; text-decoration-color: #008080; font-weight: bold\">2</span>,\n",
       "        <span style=\"color: #808000; text-decoration-color: #808000\">items</span>=<span style=\"font-weight: bold\">[</span><span style=\"color: #008080; text-decoration-color: #008080; font-weight: bold\">80</span><span style=\"font-weight: bold\">]</span>,\n",
       "        <span style=\"color: #808000; text-decoration-color: #808000\">operation</span>=<span style=\"color: #800080; text-decoration-color: #800080; font-weight: bold\">Operation</span><span style=\"font-weight: bold\">(</span><span style=\"color: #808000; text-decoration-color: #808000\">operator</span>=<span style=\"color: #008000; text-decoration-color: #008000\">'+'</span>, <span style=\"color: #808000; text-decoration-color: #808000\">rhs</span>=<span style=\"color: #008080; text-decoration-color: #008080; font-weight: bold\">6</span><span style=\"font-weight: bold\">)</span>,\n",
       "        <span style=\"color: #808000; text-decoration-color: #808000\">divisor</span>=<span style=\"color: #008080; text-decoration-color: #008080; font-weight: bold\">5</span>,\n",
       "        <span style=\"color: #808000; text-decoration-color: #808000\">throw_to</span>=<span style=\"font-weight: bold\">(</span><span style=\"color: #008080; text-decoration-color: #008080; font-weight: bold\">7</span>, <span style=\"color: #008080; text-decoration-color: #008080; font-weight: bold\">5</span><span style=\"font-weight: bold\">)</span>\n",
       "    <span style=\"font-weight: bold\">)</span>,\n",
       "    <span style=\"color: #008080; text-decoration-color: #008080; font-weight: bold\">3</span>: <span style=\"color: #800080; text-decoration-color: #800080; font-weight: bold\">Monkey</span><span style=\"font-weight: bold\">(</span>\n",
       "        <span style=\"color: #808000; text-decoration-color: #808000\">name</span>=<span style=\"color: #008080; text-decoration-color: #008080; font-weight: bold\">3</span>,\n",
       "        <span style=\"color: #808000; text-decoration-color: #808000\">items</span>=<span style=\"font-weight: bold\">[</span><span style=\"color: #008080; text-decoration-color: #008080; font-weight: bold\">82</span>, <span style=\"color: #008080; text-decoration-color: #008080; font-weight: bold\">81</span>, <span style=\"color: #008080; text-decoration-color: #008080; font-weight: bold\">68</span>, <span style=\"color: #008080; text-decoration-color: #008080; font-weight: bold\">66</span>, <span style=\"color: #008080; text-decoration-color: #008080; font-weight: bold\">71</span>, <span style=\"color: #008080; text-decoration-color: #008080; font-weight: bold\">83</span>, <span style=\"color: #008080; text-decoration-color: #008080; font-weight: bold\">75</span>, <span style=\"color: #008080; text-decoration-color: #008080; font-weight: bold\">97</span><span style=\"font-weight: bold\">]</span>,\n",
       "        <span style=\"color: #808000; text-decoration-color: #808000\">operation</span>=<span style=\"color: #800080; text-decoration-color: #800080; font-weight: bold\">Operation</span><span style=\"font-weight: bold\">(</span><span style=\"color: #808000; text-decoration-color: #808000\">operator</span>=<span style=\"color: #008000; text-decoration-color: #008000\">'+'</span>, <span style=\"color: #808000; text-decoration-color: #808000\">rhs</span>=<span style=\"color: #008080; text-decoration-color: #008080; font-weight: bold\">5</span><span style=\"font-weight: bold\">)</span>,\n",
       "        <span style=\"color: #808000; text-decoration-color: #808000\">divisor</span>=<span style=\"color: #008080; text-decoration-color: #008080; font-weight: bold\">11</span>,\n",
       "        <span style=\"color: #808000; text-decoration-color: #808000\">throw_to</span>=<span style=\"font-weight: bold\">(</span><span style=\"color: #008080; text-decoration-color: #008080; font-weight: bold\">5</span>, <span style=\"color: #008080; text-decoration-color: #008080; font-weight: bold\">2</span><span style=\"font-weight: bold\">)</span>\n",
       "    <span style=\"font-weight: bold\">)</span>,\n",
       "    <span style=\"color: #008080; text-decoration-color: #008080; font-weight: bold\">4</span>: <span style=\"color: #800080; text-decoration-color: #800080; font-weight: bold\">Monkey</span><span style=\"font-weight: bold\">(</span>\n",
       "        <span style=\"color: #808000; text-decoration-color: #808000\">name</span>=<span style=\"color: #008080; text-decoration-color: #008080; font-weight: bold\">4</span>,\n",
       "        <span style=\"color: #808000; text-decoration-color: #808000\">items</span>=<span style=\"font-weight: bold\">[</span><span style=\"color: #008080; text-decoration-color: #008080; font-weight: bold\">55</span>, <span style=\"color: #008080; text-decoration-color: #008080; font-weight: bold\">52</span>, <span style=\"color: #008080; text-decoration-color: #008080; font-weight: bold\">67</span>, <span style=\"color: #008080; text-decoration-color: #008080; font-weight: bold\">70</span>, <span style=\"color: #008080; text-decoration-color: #008080; font-weight: bold\">69</span>, <span style=\"color: #008080; text-decoration-color: #008080; font-weight: bold\">94</span>, <span style=\"color: #008080; text-decoration-color: #008080; font-weight: bold\">90</span><span style=\"font-weight: bold\">]</span>,\n",
       "        <span style=\"color: #808000; text-decoration-color: #808000\">operation</span>=<span style=\"color: #800080; text-decoration-color: #800080; font-weight: bold\">Operation</span><span style=\"font-weight: bold\">(</span><span style=\"color: #808000; text-decoration-color: #808000\">operator</span>=<span style=\"color: #008000; text-decoration-color: #008000\">'*'</span>, <span style=\"color: #808000; text-decoration-color: #808000\">rhs</span>=<span style=\"color: #800080; text-decoration-color: #800080; font-style: italic\">None</span><span style=\"font-weight: bold\">)</span>,\n",
       "        <span style=\"color: #808000; text-decoration-color: #808000\">divisor</span>=<span style=\"color: #008080; text-decoration-color: #008080; font-weight: bold\">17</span>,\n",
       "        <span style=\"color: #808000; text-decoration-color: #808000\">throw_to</span>=<span style=\"font-weight: bold\">(</span><span style=\"color: #008080; text-decoration-color: #008080; font-weight: bold\">0</span>, <span style=\"color: #008080; text-decoration-color: #008080; font-weight: bold\">3</span><span style=\"font-weight: bold\">)</span>\n",
       "    <span style=\"font-weight: bold\">)</span>,\n",
       "    <span style=\"color: #008080; text-decoration-color: #008080; font-weight: bold\">5</span>: <span style=\"color: #800080; text-decoration-color: #800080; font-weight: bold\">Monkey</span><span style=\"font-weight: bold\">(</span>\n",
       "        <span style=\"color: #808000; text-decoration-color: #808000\">name</span>=<span style=\"color: #008080; text-decoration-color: #008080; font-weight: bold\">5</span>,\n",
       "        <span style=\"color: #808000; text-decoration-color: #808000\">items</span>=<span style=\"font-weight: bold\">[</span><span style=\"color: #008080; text-decoration-color: #008080; font-weight: bold\">69</span>, <span style=\"color: #008080; text-decoration-color: #008080; font-weight: bold\">85</span>, <span style=\"color: #008080; text-decoration-color: #008080; font-weight: bold\">89</span>, <span style=\"color: #008080; text-decoration-color: #008080; font-weight: bold\">91</span><span style=\"font-weight: bold\">]</span>,\n",
       "        <span style=\"color: #808000; text-decoration-color: #808000\">operation</span>=<span style=\"color: #800080; text-decoration-color: #800080; font-weight: bold\">Operation</span><span style=\"font-weight: bold\">(</span><span style=\"color: #808000; text-decoration-color: #808000\">operator</span>=<span style=\"color: #008000; text-decoration-color: #008000\">'+'</span>, <span style=\"color: #808000; text-decoration-color: #808000\">rhs</span>=<span style=\"color: #008080; text-decoration-color: #008080; font-weight: bold\">7</span><span style=\"font-weight: bold\">)</span>,\n",
       "        <span style=\"color: #808000; text-decoration-color: #808000\">divisor</span>=<span style=\"color: #008080; text-decoration-color: #008080; font-weight: bold\">13</span>,\n",
       "        <span style=\"color: #808000; text-decoration-color: #808000\">throw_to</span>=<span style=\"font-weight: bold\">(</span><span style=\"color: #008080; text-decoration-color: #008080; font-weight: bold\">1</span>, <span style=\"color: #008080; text-decoration-color: #008080; font-weight: bold\">7</span><span style=\"font-weight: bold\">)</span>\n",
       "    <span style=\"font-weight: bold\">)</span>,\n",
       "    <span style=\"color: #008080; text-decoration-color: #008080; font-weight: bold\">6</span>: <span style=\"color: #800080; text-decoration-color: #800080; font-weight: bold\">Monkey</span><span style=\"font-weight: bold\">(</span>\n",
       "        <span style=\"color: #808000; text-decoration-color: #808000\">name</span>=<span style=\"color: #008080; text-decoration-color: #008080; font-weight: bold\">6</span>,\n",
       "        <span style=\"color: #808000; text-decoration-color: #808000\">items</span>=<span style=\"font-weight: bold\">[</span><span style=\"color: #008080; text-decoration-color: #008080; font-weight: bold\">75</span>, <span style=\"color: #008080; text-decoration-color: #008080; font-weight: bold\">53</span>, <span style=\"color: #008080; text-decoration-color: #008080; font-weight: bold\">73</span>, <span style=\"color: #008080; text-decoration-color: #008080; font-weight: bold\">52</span>, <span style=\"color: #008080; text-decoration-color: #008080; font-weight: bold\">75</span><span style=\"font-weight: bold\">]</span>,\n",
       "        <span style=\"color: #808000; text-decoration-color: #808000\">operation</span>=<span style=\"color: #800080; text-decoration-color: #800080; font-weight: bold\">Operation</span><span style=\"font-weight: bold\">(</span><span style=\"color: #808000; text-decoration-color: #808000\">operator</span>=<span style=\"color: #008000; text-decoration-color: #008000\">'*'</span>, <span style=\"color: #808000; text-decoration-color: #808000\">rhs</span>=<span style=\"color: #008080; text-decoration-color: #008080; font-weight: bold\">7</span><span style=\"font-weight: bold\">)</span>,\n",
       "        <span style=\"color: #808000; text-decoration-color: #808000\">divisor</span>=<span style=\"color: #008080; text-decoration-color: #008080; font-weight: bold\">2</span>,\n",
       "        <span style=\"color: #808000; text-decoration-color: #808000\">throw_to</span>=<span style=\"font-weight: bold\">(</span><span style=\"color: #008080; text-decoration-color: #008080; font-weight: bold\">0</span>, <span style=\"color: #008080; text-decoration-color: #008080; font-weight: bold\">4</span><span style=\"font-weight: bold\">)</span>\n",
       "    <span style=\"font-weight: bold\">)</span>,\n",
       "    <span style=\"color: #008080; text-decoration-color: #008080; font-weight: bold\">7</span>: <span style=\"color: #800080; text-decoration-color: #800080; font-weight: bold\">Monkey</span><span style=\"font-weight: bold\">(</span>\n",
       "        <span style=\"color: #808000; text-decoration-color: #808000\">name</span>=<span style=\"color: #008080; text-decoration-color: #008080; font-weight: bold\">7</span>,\n",
       "        <span style=\"color: #808000; text-decoration-color: #808000\">items</span>=<span style=\"font-weight: bold\">[</span><span style=\"color: #008080; text-decoration-color: #008080; font-weight: bold\">94</span>, <span style=\"color: #008080; text-decoration-color: #008080; font-weight: bold\">60</span>, <span style=\"color: #008080; text-decoration-color: #008080; font-weight: bold\">79</span><span style=\"font-weight: bold\">]</span>,\n",
       "        <span style=\"color: #808000; text-decoration-color: #808000\">operation</span>=<span style=\"color: #800080; text-decoration-color: #800080; font-weight: bold\">Operation</span><span style=\"font-weight: bold\">(</span><span style=\"color: #808000; text-decoration-color: #808000\">operator</span>=<span style=\"color: #008000; text-decoration-color: #008000\">'+'</span>, <span style=\"color: #808000; text-decoration-color: #808000\">rhs</span>=<span style=\"color: #008080; text-decoration-color: #008080; font-weight: bold\">2</span><span style=\"font-weight: bold\">)</span>,\n",
       "        <span style=\"color: #808000; text-decoration-color: #808000\">divisor</span>=<span style=\"color: #008080; text-decoration-color: #008080; font-weight: bold\">3</span>,\n",
       "        <span style=\"color: #808000; text-decoration-color: #808000\">throw_to</span>=<span style=\"font-weight: bold\">(</span><span style=\"color: #008080; text-decoration-color: #008080; font-weight: bold\">1</span>, <span style=\"color: #008080; text-decoration-color: #008080; font-weight: bold\">6</span><span style=\"font-weight: bold\">)</span>\n",
       "    <span style=\"font-weight: bold\">)</span>\n",
       "<span style=\"font-weight: bold\">}</span>\n",
       "</pre>\n"
      ],
      "text/plain": [
       "\n",
       "\u001b[1m{\u001b[0m\n",
       "    \u001b[1;36m0\u001b[0m: \u001b[1;35mMonkey\u001b[0m\u001b[1m(\u001b[0m\n",
       "        \u001b[33mname\u001b[0m=\u001b[1;36m0\u001b[0m,\n",
       "        \u001b[33mitems\u001b[0m=\u001b[1m[\u001b[0m\u001b[1;36m57\u001b[0m, \u001b[1;36m58\u001b[0m\u001b[1m]\u001b[0m,\n",
       "        \u001b[33moperation\u001b[0m=\u001b[1;35mOperation\u001b[0m\u001b[1m(\u001b[0m\u001b[33moperator\u001b[0m=\u001b[32m'*'\u001b[0m, \u001b[33mrhs\u001b[0m=\u001b[1;36m19\u001b[0m\u001b[1m)\u001b[0m,\n",
       "        \u001b[33mdivisor\u001b[0m=\u001b[1;36m7\u001b[0m,\n",
       "        \u001b[33mthrow_to\u001b[0m=\u001b[1m(\u001b[0m\u001b[1;36m2\u001b[0m, \u001b[1;36m3\u001b[0m\u001b[1m)\u001b[0m\n",
       "    \u001b[1m)\u001b[0m,\n",
       "    \u001b[1;36m1\u001b[0m: \u001b[1;35mMonkey\u001b[0m\u001b[1m(\u001b[0m\n",
       "        \u001b[33mname\u001b[0m=\u001b[1;36m1\u001b[0m,\n",
       "        \u001b[33mitems\u001b[0m=\u001b[1m[\u001b[0m\u001b[1;36m66\u001b[0m, \u001b[1;36m52\u001b[0m, \u001b[1;36m59\u001b[0m, \u001b[1;36m79\u001b[0m, \u001b[1;36m94\u001b[0m, \u001b[1;36m73\u001b[0m\u001b[1m]\u001b[0m,\n",
       "        \u001b[33moperation\u001b[0m=\u001b[1;35mOperation\u001b[0m\u001b[1m(\u001b[0m\u001b[33moperator\u001b[0m=\u001b[32m'+'\u001b[0m, \u001b[33mrhs\u001b[0m=\u001b[1;36m1\u001b[0m\u001b[1m)\u001b[0m,\n",
       "        \u001b[33mdivisor\u001b[0m=\u001b[1;36m19\u001b[0m,\n",
       "        \u001b[33mthrow_to\u001b[0m=\u001b[1m(\u001b[0m\u001b[1;36m4\u001b[0m, \u001b[1;36m6\u001b[0m\u001b[1m)\u001b[0m\n",
       "    \u001b[1m)\u001b[0m,\n",
       "    \u001b[1;36m2\u001b[0m: \u001b[1;35mMonkey\u001b[0m\u001b[1m(\u001b[0m\n",
       "        \u001b[33mname\u001b[0m=\u001b[1;36m2\u001b[0m,\n",
       "        \u001b[33mitems\u001b[0m=\u001b[1m[\u001b[0m\u001b[1;36m80\u001b[0m\u001b[1m]\u001b[0m,\n",
       "        \u001b[33moperation\u001b[0m=\u001b[1;35mOperation\u001b[0m\u001b[1m(\u001b[0m\u001b[33moperator\u001b[0m=\u001b[32m'+'\u001b[0m, \u001b[33mrhs\u001b[0m=\u001b[1;36m6\u001b[0m\u001b[1m)\u001b[0m,\n",
       "        \u001b[33mdivisor\u001b[0m=\u001b[1;36m5\u001b[0m,\n",
       "        \u001b[33mthrow_to\u001b[0m=\u001b[1m(\u001b[0m\u001b[1;36m7\u001b[0m, \u001b[1;36m5\u001b[0m\u001b[1m)\u001b[0m\n",
       "    \u001b[1m)\u001b[0m,\n",
       "    \u001b[1;36m3\u001b[0m: \u001b[1;35mMonkey\u001b[0m\u001b[1m(\u001b[0m\n",
       "        \u001b[33mname\u001b[0m=\u001b[1;36m3\u001b[0m,\n",
       "        \u001b[33mitems\u001b[0m=\u001b[1m[\u001b[0m\u001b[1;36m82\u001b[0m, \u001b[1;36m81\u001b[0m, \u001b[1;36m68\u001b[0m, \u001b[1;36m66\u001b[0m, \u001b[1;36m71\u001b[0m, \u001b[1;36m83\u001b[0m, \u001b[1;36m75\u001b[0m, \u001b[1;36m97\u001b[0m\u001b[1m]\u001b[0m,\n",
       "        \u001b[33moperation\u001b[0m=\u001b[1;35mOperation\u001b[0m\u001b[1m(\u001b[0m\u001b[33moperator\u001b[0m=\u001b[32m'+'\u001b[0m, \u001b[33mrhs\u001b[0m=\u001b[1;36m5\u001b[0m\u001b[1m)\u001b[0m,\n",
       "        \u001b[33mdivisor\u001b[0m=\u001b[1;36m11\u001b[0m,\n",
       "        \u001b[33mthrow_to\u001b[0m=\u001b[1m(\u001b[0m\u001b[1;36m5\u001b[0m, \u001b[1;36m2\u001b[0m\u001b[1m)\u001b[0m\n",
       "    \u001b[1m)\u001b[0m,\n",
       "    \u001b[1;36m4\u001b[0m: \u001b[1;35mMonkey\u001b[0m\u001b[1m(\u001b[0m\n",
       "        \u001b[33mname\u001b[0m=\u001b[1;36m4\u001b[0m,\n",
       "        \u001b[33mitems\u001b[0m=\u001b[1m[\u001b[0m\u001b[1;36m55\u001b[0m, \u001b[1;36m52\u001b[0m, \u001b[1;36m67\u001b[0m, \u001b[1;36m70\u001b[0m, \u001b[1;36m69\u001b[0m, \u001b[1;36m94\u001b[0m, \u001b[1;36m90\u001b[0m\u001b[1m]\u001b[0m,\n",
       "        \u001b[33moperation\u001b[0m=\u001b[1;35mOperation\u001b[0m\u001b[1m(\u001b[0m\u001b[33moperator\u001b[0m=\u001b[32m'*'\u001b[0m, \u001b[33mrhs\u001b[0m=\u001b[3;35mNone\u001b[0m\u001b[1m)\u001b[0m,\n",
       "        \u001b[33mdivisor\u001b[0m=\u001b[1;36m17\u001b[0m,\n",
       "        \u001b[33mthrow_to\u001b[0m=\u001b[1m(\u001b[0m\u001b[1;36m0\u001b[0m, \u001b[1;36m3\u001b[0m\u001b[1m)\u001b[0m\n",
       "    \u001b[1m)\u001b[0m,\n",
       "    \u001b[1;36m5\u001b[0m: \u001b[1;35mMonkey\u001b[0m\u001b[1m(\u001b[0m\n",
       "        \u001b[33mname\u001b[0m=\u001b[1;36m5\u001b[0m,\n",
       "        \u001b[33mitems\u001b[0m=\u001b[1m[\u001b[0m\u001b[1;36m69\u001b[0m, \u001b[1;36m85\u001b[0m, \u001b[1;36m89\u001b[0m, \u001b[1;36m91\u001b[0m\u001b[1m]\u001b[0m,\n",
       "        \u001b[33moperation\u001b[0m=\u001b[1;35mOperation\u001b[0m\u001b[1m(\u001b[0m\u001b[33moperator\u001b[0m=\u001b[32m'+'\u001b[0m, \u001b[33mrhs\u001b[0m=\u001b[1;36m7\u001b[0m\u001b[1m)\u001b[0m,\n",
       "        \u001b[33mdivisor\u001b[0m=\u001b[1;36m13\u001b[0m,\n",
       "        \u001b[33mthrow_to\u001b[0m=\u001b[1m(\u001b[0m\u001b[1;36m1\u001b[0m, \u001b[1;36m7\u001b[0m\u001b[1m)\u001b[0m\n",
       "    \u001b[1m)\u001b[0m,\n",
       "    \u001b[1;36m6\u001b[0m: \u001b[1;35mMonkey\u001b[0m\u001b[1m(\u001b[0m\n",
       "        \u001b[33mname\u001b[0m=\u001b[1;36m6\u001b[0m,\n",
       "        \u001b[33mitems\u001b[0m=\u001b[1m[\u001b[0m\u001b[1;36m75\u001b[0m, \u001b[1;36m53\u001b[0m, \u001b[1;36m73\u001b[0m, \u001b[1;36m52\u001b[0m, \u001b[1;36m75\u001b[0m\u001b[1m]\u001b[0m,\n",
       "        \u001b[33moperation\u001b[0m=\u001b[1;35mOperation\u001b[0m\u001b[1m(\u001b[0m\u001b[33moperator\u001b[0m=\u001b[32m'*'\u001b[0m, \u001b[33mrhs\u001b[0m=\u001b[1;36m7\u001b[0m\u001b[1m)\u001b[0m,\n",
       "        \u001b[33mdivisor\u001b[0m=\u001b[1;36m2\u001b[0m,\n",
       "        \u001b[33mthrow_to\u001b[0m=\u001b[1m(\u001b[0m\u001b[1;36m0\u001b[0m, \u001b[1;36m4\u001b[0m\u001b[1m)\u001b[0m\n",
       "    \u001b[1m)\u001b[0m,\n",
       "    \u001b[1;36m7\u001b[0m: \u001b[1;35mMonkey\u001b[0m\u001b[1m(\u001b[0m\n",
       "        \u001b[33mname\u001b[0m=\u001b[1;36m7\u001b[0m,\n",
       "        \u001b[33mitems\u001b[0m=\u001b[1m[\u001b[0m\u001b[1;36m94\u001b[0m, \u001b[1;36m60\u001b[0m, \u001b[1;36m79\u001b[0m\u001b[1m]\u001b[0m,\n",
       "        \u001b[33moperation\u001b[0m=\u001b[1;35mOperation\u001b[0m\u001b[1m(\u001b[0m\u001b[33moperator\u001b[0m=\u001b[32m'+'\u001b[0m, \u001b[33mrhs\u001b[0m=\u001b[1;36m2\u001b[0m\u001b[1m)\u001b[0m,\n",
       "        \u001b[33mdivisor\u001b[0m=\u001b[1;36m3\u001b[0m,\n",
       "        \u001b[33mthrow_to\u001b[0m=\u001b[1m(\u001b[0m\u001b[1;36m1\u001b[0m, \u001b[1;36m6\u001b[0m\u001b[1m)\u001b[0m\n",
       "    \u001b[1m)\u001b[0m\n",
       "\u001b[1m}\u001b[0m\n"
      ]
     },
     "metadata": {},
     "output_type": "display_data"
    }
   ],
   "source": [
    "from dataclasses import dataclass\n",
    "import regex as re\n",
    "from typing import Optional\n",
    "\n",
    "\n",
    "@dataclass(frozen=True)\n",
    "class Operation:\n",
    "    operator: str\n",
    "    rhs: Optional[int]\n",
    "\n",
    "    def __call__(self, lhs):\n",
    "        if self.rhs is None:\n",
    "            rhs = lhs\n",
    "        else:\n",
    "            rhs = self.rhs\n",
    "\n",
    "        if self.operator == \"+\":\n",
    "            return lhs + rhs\n",
    "        return lhs * rhs\n",
    "\n",
    "\n",
    "@dataclass\n",
    "class Monkey:\n",
    "    name: int\n",
    "    items: list[int]\n",
    "    operation: Operation\n",
    "    divisor: int\n",
    "    throw_to: tuple[int, int]\n",
    "\n",
    "    def test_item(self, item):\n",
    "        return item % self.divisor == 0\n",
    "\n",
    "    @staticmethod\n",
    "    def from_string(string):\n",
    "        name = int(re.search(r\"Monkey (\\d+):\", string).group(1))\n",
    "        items = [\n",
    "            int(match.removesuffix(\", \"))\n",
    "            for match in re.search(r\"Starting items: (\\d+,? ?)+\", string).captures(1)\n",
    "        ]\n",
    "        operation_search = re.search(r\"Operation: new = old (\\+|\\*) (old|\\d+)\", string)\n",
    "        operation = Operation(\n",
    "            operation_search.group(1),\n",
    "            None if (rhs := operation_search.group(2)) == \"old\" else int(rhs),\n",
    "        )\n",
    "        divisor = int(re.search(r\"Test: divisible by (\\d+)\", string).group(1))\n",
    "        if_true = int(re.search(r\"If true: throw to monkey (\\d+)\", string).group(1))\n",
    "        if_false = int(re.search(r\"If false: throw to monkey (\\d+)\", string).group(1))\n",
    "\n",
    "        return Monkey(name, items, operation, divisor, (if_true, if_false))\n",
    "\n",
    "\n",
    "monkeys = [Monkey.from_string(monkey) for monkey in monkey_strings]\n",
    "monkeys = {monkey.name: monkey for monkey in monkeys}\n",
    "monkeys"
   ]
  },
  {
   "cell_type": "code",
   "execution_count": 5,
   "metadata": {},
   "outputs": [
    {
     "data": {
      "text/html": [
       "<pre style=\"white-space:pre;overflow-x:auto;line-height:normal;font-family:Menlo,'DejaVu Sans Mono',consolas,'Courier New',monospace\"></pre>\n"
      ],
      "text/plain": [
       "\u001b[?25l"
      ]
     },
     "metadata": {},
     "output_type": "display_data"
    },
    {
     "data": {
      "application/vnd.jupyter.widget-view+json": {
       "model_id": "4251c0f5689649fc94ae03f208b85f79",
       "version_major": 2,
       "version_minor": 0
      },
      "text/plain": [
       "Output()"
      ]
     },
     "metadata": {},
     "output_type": "display_data"
    },
    {
     "data": {
      "text/html": [
       "<pre style=\"white-space:pre;overflow-x:auto;line-height:normal;font-family:Menlo,'DejaVu Sans Mono',consolas,'Courier New',monospace\">\n",
       "</pre>\n"
      ],
      "text/plain": [
       "\n",
       "\u001b[?25h"
      ]
     },
     "metadata": {},
     "output_type": "display_data"
    }
   ],
   "source": [
    "from copy import deepcopy\n",
    "import itertools as it\n",
    "\n",
    "\n",
    "def single_round(monkeys, inspections, global_modulus):\n",
    "    next_monkeys = deepcopy(monkeys)\n",
    "    for monkey in next_monkeys.values():\n",
    "        # Increase worry\n",
    "        items = [monkey.operation(item) for item in monkey.items]\n",
    "        inspections[monkey.name] += len(items)\n",
    "        # Decrease worry\n",
    "        # items = [item // 3 for item in items]\n",
    "        items = [item % global_modulus for item in items]\n",
    "        # Distribute items\n",
    "        true_monkey = next_monkeys[monkey.throw_to[0]]\n",
    "        false_monkey = next_monkeys[monkey.throw_to[1]]\n",
    "        for item in items:\n",
    "            if monkey.test_item(item):\n",
    "                true_monkey.items.append(item)\n",
    "            else:\n",
    "                false_monkey.items.append(item)\n",
    "        monkey.items = []\n",
    "\n",
    "    return next_monkeys\n",
    "\n",
    "\n",
    "all_of_the_monkeys = [monkeys]\n",
    "inspections = {monkey: 0 for monkey in monkeys}\n",
    "global_modulus = np.prod([monkey.divisor for monkey in monkeys.values()])\n",
    "for _ in track(range(10_000)):\n",
    "    all_of_the_monkeys.append(\n",
    "        single_round(all_of_the_monkeys[-1], inspections, global_modulus)\n",
    "    )"
   ]
  },
  {
   "cell_type": "code",
   "execution_count": 6,
   "metadata": {},
   "outputs": [
    {
     "data": {
      "text/html": [
       "<pre style=\"white-space:pre;overflow-x:auto;line-height:normal;font-family:Menlo,'DejaVu Sans Mono',consolas,'Courier New',monospace\"><span style=\"font-weight: bold\">{</span><span style=\"color: #008080; text-decoration-color: #008080; font-weight: bold\">0</span>: <span style=\"color: #008080; text-decoration-color: #008080; font-weight: bold\">60020</span>, <span style=\"color: #008080; text-decoration-color: #008080; font-weight: bold\">1</span>: <span style=\"color: #008080; text-decoration-color: #008080; font-weight: bold\">7592</span>, <span style=\"color: #008080; text-decoration-color: #008080; font-weight: bold\">2</span>: <span style=\"color: #008080; text-decoration-color: #008080; font-weight: bold\">119998</span>, <span style=\"color: #008080; text-decoration-color: #008080; font-weight: bold\">3</span>: <span style=\"color: #008080; text-decoration-color: #008080; font-weight: bold\">59985</span>, <span style=\"color: #008080; text-decoration-color: #008080; font-weight: bold\">4</span>: <span style=\"color: #008080; text-decoration-color: #008080; font-weight: bold\">62507</span>, <span style=\"color: #008080; text-decoration-color: #008080; font-weight: bold\">5</span>: <span style=\"color: #008080; text-decoration-color: #008080; font-weight: bold\">57608</span>, <span style=\"color: #008080; text-decoration-color: #008080; font-weight: bold\">6</span>: <span style=\"color: #008080; text-decoration-color: #008080; font-weight: bold\">117503</span>, <span style=\"color: #008080; text-decoration-color: #008080; font-weight: bold\">7</span>: <span style=\"color: #008080; text-decoration-color: #008080; font-weight: bold\">119999</span><span style=\"font-weight: bold\">}</span>\n",
       "</pre>\n"
      ],
      "text/plain": [
       "\u001b[1m{\u001b[0m\u001b[1;36m0\u001b[0m: \u001b[1;36m60020\u001b[0m, \u001b[1;36m1\u001b[0m: \u001b[1;36m7592\u001b[0m, \u001b[1;36m2\u001b[0m: \u001b[1;36m119998\u001b[0m, \u001b[1;36m3\u001b[0m: \u001b[1;36m59985\u001b[0m, \u001b[1;36m4\u001b[0m: \u001b[1;36m62507\u001b[0m, \u001b[1;36m5\u001b[0m: \u001b[1;36m57608\u001b[0m, \u001b[1;36m6\u001b[0m: \u001b[1;36m117503\u001b[0m, \u001b[1;36m7\u001b[0m: \u001b[1;36m119999\u001b[0m\u001b[1m}\u001b[0m\n"
      ]
     },
     "metadata": {},
     "output_type": "display_data"
    }
   ],
   "source": [
    "inspections"
   ]
  },
  {
   "cell_type": "code",
   "execution_count": 7,
   "metadata": {},
   "outputs": [
    {
     "data": {
      "text/html": [
       "<pre style=\"white-space:pre;overflow-x:auto;line-height:normal;font-family:Menlo,'DejaVu Sans Mono',consolas,'Courier New',monospace\"><span style=\"color: #008080; text-decoration-color: #008080; font-weight: bold\">50830</span>\n",
       "</pre>\n"
      ],
      "text/plain": [
       "\u001b[1;36m50830\u001b[0m\n"
      ]
     },
     "metadata": {},
     "output_type": "display_data"
    }
   ],
   "source": [
    "230 * 221"
   ]
  },
  {
   "cell_type": "code",
   "execution_count": null,
   "metadata": {},
   "outputs": [],
   "source": []
  }
 ],
 "metadata": {
  "kernelspec": {
   "display_name": ".venv",
   "language": "python",
   "name": "python3"
  },
  "language_info": {
   "codemirror_mode": {
    "name": "ipython",
    "version": 3
   },
   "file_extension": ".py",
   "mimetype": "text/x-python",
   "name": "python",
   "nbconvert_exporter": "python",
   "pygments_lexer": "ipython3",
   "version": "3.10.8"
  },
  "orig_nbformat": 4,
  "vscode": {
   "interpreter": {
    "hash": "a8a58382d686ce8ef07a056105597acd71af77e76f9f4babe09d1bcef523caf3"
   }
  }
 },
 "nbformat": 4,
 "nbformat_minor": 2
}
