{
 "cells": [
  {
   "cell_type": "code",
   "execution_count": 1,
   "metadata": {},
   "outputs": [
    {
     "data": {
      "text/plain": [
       "'..X...\\n.SAMX.\\n.A..A.\\nXMAS.S\\n.X....'"
      ]
     },
     "execution_count": 1,
     "metadata": {},
     "output_type": "execute_result"
    }
   ],
   "source": [
    "import aocd\n",
    "puzzle = aocd.get_puzzle(year=2024, day=4)\n",
    "\n",
    "puzzle.examples[0].input_data"
   ]
  },
  {
   "cell_type": "code",
   "execution_count": 2,
   "metadata": {},
   "outputs": [],
   "source": [
    "import numpy as np\n",
    "import re"
   ]
  },
  {
   "cell_type": "code",
   "execution_count": 3,
   "metadata": {},
   "outputs": [
    {
     "data": {
      "text/plain": [
       "array([['.', '.', 'X', '.', '.', '.'],\n",
       "       ['.', 'S', 'A', 'M', 'X', '.'],\n",
       "       ['.', 'A', '.', '.', 'A', '.'],\n",
       "       ['X', 'M', 'A', 'S', '.', 'S'],\n",
       "       ['.', 'X', '.', '.', '.', '.']], dtype='<U1')"
      ]
     },
     "execution_count": 3,
     "metadata": {},
     "output_type": "execute_result"
    }
   ],
   "source": [
    "def parse_input(input_data):\n",
    "    lines = np.array([\n",
    "        list(line)\n",
    "        for line in input_data.splitlines()\n",
    "        if line\n",
    "    ])\n",
    "\n",
    "    return lines\n",
    "\n",
    "parse_input(puzzle.examples[0].input_data)"
   ]
  },
  {
   "cell_type": "code",
   "execution_count": 4,
   "metadata": {},
   "outputs": [],
   "source": [
    "def views(matrix):\n",
    "    transforms = [\n",
    "        matrix,\n",
    "        np.rot90(matrix),\n",
    "        np.rot90(np.rot90(matrix)),\n",
    "        np.rot90(np.rot90(np.rot90(matrix))),\n",
    "    ]\n",
    "\n",
    "    diagonalss = [\n",
    "        [\n",
    "            np.diagonal(matrix, offset=offset)\n",
    "            for offset in range(-len(matrix) + 1, len(matrix))\n",
    "        ]\n",
    "        for matrix in transforms\n",
    "    ]\n",
    "\n",
    "    lines= [\n",
    "        *[line for transform in transforms for line in transform],\n",
    "        *[diagonal for diagonals in diagonalss for diagonal in diagonals],\n",
    "    ]\n",
    "\n",
    "    return [\"\".join(line) for line in lines]"
   ]
  },
  {
   "cell_type": "code",
   "execution_count": 5,
   "metadata": {},
   "outputs": [],
   "source": [
    "xmas = re.compile(r\"XMAS\")\n",
    "\n",
    "def count_XMAS(input_data):\n",
    "    lines = views(input_data)\n",
    "    return sum(\n",
    "        len(xmas.findall(line))\n",
    "        for line in lines\n",
    "    )"
   ]
  },
  {
   "cell_type": "code",
   "execution_count": 6,
   "metadata": {},
   "outputs": [
    {
     "name": "stdout",
     "output_type": "stream",
     "text": [
      "..X...\n",
      ".SAMX.\n",
      ".A..A.\n",
      "XMAS.S\n",
      ".X....\n",
      "count_XMAS(parse_input(example.input_data))=4 - example.answer_a='XMAS'\n"
     ]
    }
   ],
   "source": [
    "for example in puzzle.examples:\n",
    "    print(example.input_data)\n",
    "    print(f\"{count_XMAS(parse_input(example.input_data))=} - {example.answer_a=}\")"
   ]
  },
  {
   "cell_type": "code",
   "execution_count": 7,
   "metadata": {},
   "outputs": [
    {
     "name": "stdout",
     "output_type": "stream",
     "text": [
      "ix=0 line='MMMSXXMASM': 1\n",
      "ix=4 line='XMASAMXAMM': 1\n",
      "ix=9 line='MXMXAXMASX': 1\n",
      "ix=10 line='MAMXMASAMX': 1\n",
      "ix=25 line='MMAXMASAMX': 1\n",
      "ix=28 line='ASMSMXMASM': 1\n",
      "ix=36 line='MMSSXXMASM': 1\n",
      "ix=39 line='XMASAMXMAM': 1\n",
      "ix=53 line='XMASMA': 1\n",
      "ix=71 line='XMASAMX': 1\n",
      "ix=86 line='MAXXMASAM': 1\n",
      "ix=87 line='XMASXAMXSM': 1\n",
      "ix=91 line='XMASXX': 1\n",
      "ix=93 line='XMAS': 1\n",
      "ix=101 line='XMASA': 1\n",
      "ix=103 line='XMASAMX': 1\n",
      "ix=105 line='XMASXXSMA': 1\n",
      "ix=110 line='XMASXX': 1\n",
      "18 18\n"
     ]
    }
   ],
   "source": [
    "larger_example = \"\"\"MMMSXXMASM\n",
    "MSAMXMSMSA\n",
    "AMXSXMAAMM\n",
    "MSAMASMSMX\n",
    "XMASAMXAMM\n",
    "XXAMMXXAMA\n",
    "SMSMSASXSS\n",
    "SAXAMASAAA\n",
    "MAMMMXMMMM\n",
    "MXMXAXMASX\"\"\"\n",
    "\n",
    "for ix, line in enumerate(views(parse_input(larger_example))):\n",
    "    matches = xmas.findall(line)\n",
    "    if matches:\n",
    "        print(f\"{ix=} {line=}: {len(matches)}\")\n",
    "\n",
    "print(18, count_XMAS(parse_input(larger_example)))"
   ]
  },
  {
   "cell_type": "code",
   "execution_count": 8,
   "metadata": {},
   "outputs": [
    {
     "name": "stdout",
     "output_type": "stream",
     "text": [
      "aocd will not submit that answer again. At 2024-12-08 15:24:06.812958-05:00 you've previously submitted 2297 and the server responded with:\n",
      "\u001b[32mThat's the right answer!  You are one gold star closer to finding the Chief Historian. [Continue to Part Two]\u001b[0m\n"
     ]
    }
   ],
   "source": [
    "aocd.submit(count_XMAS(parse_input(puzzle.input_data)), part='a', year=2024, day=4)"
   ]
  },
  {
   "cell_type": "code",
   "execution_count": 9,
   "metadata": {},
   "outputs": [],
   "source": [
    "valid_patches = [\n",
    "    r\"M.M.A.S.S\",\n",
    "    r\"M.S.A.M.S\",\n",
    "    r\"S.M.A.S.M\",\n",
    "    r\"S.S.A.M.M\",\n",
    "]\n",
    "valid_patches = re.compile(r\"|\".join(valid_patches))\n",
    "\n",
    "\n",
    "def patches(matrix):\n",
    "    for row in range(len(matrix) - 2):\n",
    "        for col in range(len(matrix) - 2):\n",
    "            yield \"\".join(matrix[row : row + 3, col : col + 3].flatten())\n",
    "\n",
    "\n",
    "def count_x_mas(input_data):\n",
    "    matrix = parse_input(input_data)\n",
    "    return sum(valid_patches.match(patch) is not None for patch in patches(matrix))"
   ]
  },
  {
   "cell_type": "code",
   "execution_count": 10,
   "metadata": {},
   "outputs": [
    {
     "name": "stdout",
     "output_type": "stream",
     "text": [
      "9 9\n"
     ]
    }
   ],
   "source": [
    "patch_example = \"\"\".M.S......\n",
    "..A..MSMS.\n",
    ".M.S.MAA..\n",
    "..A.ASMSM.\n",
    ".M.S.M....\n",
    "..........\n",
    "S.S.S.S.S.\n",
    ".A.A.A.A..\n",
    "M.M.M.M.M.\n",
    "..........\n",
    "\"\"\"\n",
    "\n",
    "print(9, count_x_mas(patch_example))"
   ]
  },
  {
   "cell_type": "code",
   "execution_count": 11,
   "metadata": {},
   "outputs": [
    {
     "name": "stdout",
     "output_type": "stream",
     "text": [
      "aocd will not submit that answer again. At 2024-12-08 15:35:33.549900-05:00 you've previously submitted 1745 and the server responded with:\n",
      "\u001b[32mThat's the right answer!  You are one gold star closer to finding the Chief Historian.You have completed Day 4! You can [Shareon\n",
      "  Bluesky\n",
      "Twitter\n",
      "Mastodon] this victory or [Return to Your Advent Calendar].\u001b[0m\n"
     ]
    }
   ],
   "source": [
    "aocd.submit(count_x_mas(puzzle.input_data), part='b', year=2024, day=4)"
   ]
  },
  {
   "cell_type": "code",
   "execution_count": null,
   "metadata": {},
   "outputs": [],
   "source": []
  }
 ],
 "metadata": {
  "kernelspec": {
   "display_name": ".venv",
   "language": "python",
   "name": "python3"
  },
  "language_info": {
   "codemirror_mode": {
    "name": "ipython",
    "version": 3
   },
   "file_extension": ".py",
   "mimetype": "text/x-python",
   "name": "python",
   "nbconvert_exporter": "python",
   "pygments_lexer": "ipython3",
   "version": "3.12.5"
  }
 },
 "nbformat": 4,
 "nbformat_minor": 2
}
