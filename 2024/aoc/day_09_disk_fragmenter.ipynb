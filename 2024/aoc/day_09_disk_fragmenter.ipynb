{
 "cells": [
  {
   "cell_type": "code",
   "execution_count": 1,
   "metadata": {},
   "outputs": [
    {
     "data": {
      "text/plain": [
       "'2333133121414131402'"
      ]
     },
     "execution_count": 1,
     "metadata": {},
     "output_type": "execute_result"
    }
   ],
   "source": [
    "import aocd\n",
    "puzzle = aocd.get_puzzle(year=2024, day=9)\n",
    "\n",
    "puzzle.examples[0].input_data"
   ]
  },
  {
   "cell_type": "code",
   "execution_count": 2,
   "metadata": {},
   "outputs": [],
   "source": [
    "import numpy as np\n",
    "import itertools as it"
   ]
  },
  {
   "cell_type": "code",
   "execution_count": 3,
   "metadata": {},
   "outputs": [
    {
     "data": {
      "text/plain": [
       "(array([ 0,  0, -1, -1, -1,  1,  1,  1, -1, -1, -1,  2, -1, -1, -1,  3,  3,\n",
       "         3, -1,  4,  4, -1,  5,  5,  5,  5, -1,  6,  6,  6,  6, -1,  7,  7,\n",
       "         7, -1,  8,  8,  8,  8,  9,  9]),\n",
       " {0: np.int64(2),\n",
       "  np.int64(5): np.int64(3),\n",
       "  np.int64(11): np.int64(1),\n",
       "  np.int64(15): np.int64(3),\n",
       "  np.int64(19): np.int64(2),\n",
       "  np.int64(22): np.int64(4),\n",
       "  np.int64(27): np.int64(4),\n",
       "  np.int64(32): np.int64(3),\n",
       "  np.int64(36): np.int64(4),\n",
       "  np.int64(40): np.int64(2)},\n",
       " {np.int64(2): np.int64(3),\n",
       "  np.int64(8): np.int64(3),\n",
       "  np.int64(12): np.int64(3),\n",
       "  np.int64(18): np.int64(1),\n",
       "  np.int64(21): np.int64(1),\n",
       "  np.int64(26): np.int64(1),\n",
       "  np.int64(31): np.int64(1),\n",
       "  np.int64(35): np.int64(1),\n",
       "  np.int64(40): np.int64(0)})"
      ]
     },
     "execution_count": 3,
     "metadata": {},
     "output_type": "execute_result"
    }
   ],
   "source": [
    "def parse_input(input_data):\n",
    "    sizes = np.array(list(map(int, input_data)))\n",
    "    full_width = sizes.sum()\n",
    "    memory = np.full(full_width, -1)\n",
    "\n",
    "    is_file = True\n",
    "    file_id = 0\n",
    "    position = 0\n",
    "\n",
    "    files, gaps = {}, {}\n",
    "    for size in sizes:\n",
    "        if is_file:\n",
    "            memory[position : position + size] = file_id\n",
    "            files[position] = size\n",
    "\n",
    "            file_id += 1\n",
    "            is_file = False\n",
    "        else:\n",
    "            gaps[position] = size\n",
    "\n",
    "            is_file = True\n",
    "\n",
    "        position += size\n",
    "\n",
    "    return memory, files, gaps\n",
    "\n",
    "\n",
    "parse_input(puzzle.examples[0].input_data)"
   ]
  },
  {
   "cell_type": "code",
   "execution_count": 4,
   "metadata": {},
   "outputs": [],
   "source": [
    "def fragment(memory):\n",
    "    memory = memory.copy()\n",
    "    lhs, rhs = 0, len(memory) - 1\n",
    "\n",
    "    while lhs < rhs:\n",
    "        if memory[lhs] >= 0:\n",
    "            lhs += 1\n",
    "        elif memory[rhs] < 0:\n",
    "            rhs -= 1\n",
    "        else:\n",
    "            memory[lhs] = memory[rhs]\n",
    "            memory[rhs] = -1\n",
    "\n",
    "    return memory\n",
    "\n",
    "\n",
    "def checksum(memory):\n",
    "    position = np.arange(len(memory))\n",
    "\n",
    "    checksum = np.where(memory >= 0, position * memory, 0).sum()\n",
    "    return checksum\n",
    "\n",
    "fragmented = fragment(parse_input(puzzle.examples[0].input_data)[0])"
   ]
  },
  {
   "cell_type": "code",
   "execution_count": 5,
   "metadata": {},
   "outputs": [
    {
     "name": "stdout",
     "output_type": "stream",
     "text": [
      "1928 - 1928\n"
     ]
    }
   ],
   "source": [
    "for example in puzzle.examples:\n",
    "    print(\n",
    "        checksum(fragment(parse_input(example.input_data)[0])),\n",
    "        \"-\",\n",
    "        example.answer_a,\n",
    "    )"
   ]
  },
  {
   "cell_type": "code",
   "execution_count": 6,
   "metadata": {},
   "outputs": [
    {
     "name": "stderr",
     "output_type": "stream",
     "text": [
      "coerced int64 value np.int64(6332189866718) for 2024/09 to '6332189866718'\n"
     ]
    },
    {
     "name": "stdout",
     "output_type": "stream",
     "text": [
      "aocd will not submit that answer again. At 2024-12-10 13:46:43.027811-05:00 you've previously submitted 6332189866718 and the server responded with:\n",
      "\u001b[32mThat's the right answer!  You are one gold star closer to finding the Chief Historian. [Continue to Part Two]\u001b[0m\n"
     ]
    }
   ],
   "source": [
    "aocd.submit(\n",
    "    checksum(fragment(parse_input(puzzle.input_data)[0])),\n",
    "    part=\"a\",\n",
    "    year=2024,\n",
    "    day=9,\n",
    ")"
   ]
  },
  {
   "cell_type": "code",
   "execution_count": 7,
   "metadata": {},
   "outputs": [
    {
     "data": {
      "text/plain": [
       "array([ 0,  0,  9,  9,  2,  1,  1,  1,  7,  7,  7, -1,  4,  4, -1,  3,  3,\n",
       "        3, -1, -1, -1, -1,  5,  5,  5,  5, -1,  6,  6,  6,  6, -1, -1, -1,\n",
       "       -1, -1,  8,  8,  8,  8, -1, -1])"
      ]
     },
     "execution_count": 7,
     "metadata": {},
     "output_type": "execute_result"
    }
   ],
   "source": [
    "def defragment_file_level(memory, files, gaps):\n",
    "    memory = memory.copy()\n",
    "    gaps = gaps.copy()\n",
    "\n",
    "    for file_position, file_size in sorted(files.items(), key=lambda x: x[0], reverse=True):\n",
    "        # Should use an inherently sorted data structure. Well - good enough.\n",
    "        for gap_position, gap_size in sorted(gaps.items(), key=lambda x: x[0], reverse=False):\n",
    "            if gap_position > file_position:\n",
    "                continue\n",
    "\n",
    "            if gap_size >= file_size:\n",
    "                file_id = memory[file_position]\n",
    "                memory[gap_position : gap_position + file_size] = file_id\n",
    "                memory[file_position : file_position + file_size] = -1\n",
    "                del gaps[gap_position]\n",
    "\n",
    "                if gap_size > file_size:\n",
    "                    gaps[gap_position + file_size] = gap_size - file_size\n",
    "\n",
    "                break\n",
    "\n",
    "    return memory\n",
    "\n",
    "\n",
    "memory, files, gaps = parse_input(puzzle.examples[0].input_data)\n",
    "defragment_file_level(memory, files, gaps)"
   ]
  },
  {
   "cell_type": "code",
   "execution_count": 8,
   "metadata": {},
   "outputs": [
    {
     "name": "stdout",
     "output_type": "stream",
     "text": [
      "2858 - 2858\n"
     ]
    }
   ],
   "source": [
    "for example in puzzle.examples:\n",
    "    print(\n",
    "        checksum(defragment_file_level(*parse_input(example.input_data))),\n",
    "        \"-\",\n",
    "        example.answer_b,\n",
    "    )"
   ]
  },
  {
   "cell_type": "code",
   "execution_count": 9,
   "metadata": {},
   "outputs": [
    {
     "data": {
      "text/plain": [
       "np.int64(6353648390778)"
      ]
     },
     "execution_count": 9,
     "metadata": {},
     "output_type": "execute_result"
    }
   ],
   "source": [
    "checksum(defragment_file_level(*parse_input(puzzle.input_data)))"
   ]
  },
  {
   "cell_type": "code",
   "execution_count": 10,
   "metadata": {},
   "outputs": [
    {
     "name": "stderr",
     "output_type": "stream",
     "text": [
      "coerced int64 value np.int64(6353648390778) for 2024/09 to '6353648390778'\n"
     ]
    },
    {
     "name": "stdout",
     "output_type": "stream",
     "text": [
      "aocd will not submit that answer again. At 2024-12-10 15:51:20.020571-05:00 you've previously submitted 6353648390778 and the server responded with:\n",
      "\u001b[32mThat's the right answer!  You are one gold star closer to finding the Chief Historian.You have completed Day 9! You can [Shareon\n",
      "  Bluesky\n",
      "Twitter\n",
      "Mastodon] this victory or [Return to Your Advent Calendar].\u001b[0m\n"
     ]
    }
   ],
   "source": [
    "aocd.submit(\n",
    "    checksum(defragment_file_level(*parse_input(puzzle.input_data))),\n",
    "    part=\"b\",\n",
    "    year=2024,\n",
    "    day=9,\n",
    ")"
   ]
  },
  {
   "cell_type": "code",
   "execution_count": null,
   "metadata": {},
   "outputs": [],
   "source": []
  }
 ],
 "metadata": {
  "kernelspec": {
   "display_name": ".venv",
   "language": "python",
   "name": "python3"
  },
  "language_info": {
   "codemirror_mode": {
    "name": "ipython",
    "version": 3
   },
   "file_extension": ".py",
   "mimetype": "text/x-python",
   "name": "python",
   "nbconvert_exporter": "python",
   "pygments_lexer": "ipython3",
   "version": "3.12.5"
  }
 },
 "nbformat": 4,
 "nbformat_minor": 2
}
